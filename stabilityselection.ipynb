{
 "cells": [
  {
   "cell_type": "code",
   "execution_count": null,
   "metadata": {},
   "outputs": [],
   "source": [
    "# This requires stability_selection package from:\n",
    "# https://github.com/scikit-learn-contrib/stability-selection\n",
    "# Please follow the instructions there for installation"
   ]
  },
  {
   "cell_type": "markdown",
   "metadata": {},
   "source": [
    "## Comparison of various models prediction for feature importance\n",
    "\n",
    "Inspired by Andos Saabas' discussion of different ways of picking important features\n",
    "https://blog.datadive.net/selecting-good-features-part-iv-stability-selection-rfe-and-everything-side-by-side/"
   ]
  },
  {
   "cell_type": "markdown",
   "metadata": {},
   "source": [
    "### Produces Table 2 in the paper\n",
    "\n",
    "Note that this assumes that the best fit LASSO and RF models that were saved used polynomial basis. In other words:\n",
    "\n",
    "RUN rfandlasso_vertical_poly.ipynb first to generate\n",
    " - bst_lasso.joblib\n",
    " - bst_rf.joblib\n",
    "\n",
    "If you ran rfandlasso_vertical_nopoly.ipynb, then these models will be making predictions/giving feature importances for the linear basis. This notebook assumes all models operate on the polynomial basis."
   ]
  },
  {
   "cell_type": "code",
   "execution_count": 1,
   "metadata": {},
   "outputs": [
    {
     "name": "stderr",
     "output_type": "stream",
     "text": [
      "/home/fnauman/anaconda3/envs/plotly/lib/python3.7/site-packages/sklearn/externals/joblib/__init__.py:15: DeprecationWarning: sklearn.externals.joblib is deprecated in 0.21 and will be removed in 0.23. Please import this functionality directly from joblib, which can be installed with: pip install joblib. If this warning is raised when loading pickled models, you may need to re-serialize those models with scikit-learn 0.21+.\n",
      "  warnings.warn(msg, category=DeprecationWarning)\n"
     ]
    }
   ],
   "source": [
    "import numpy as np\n",
    "import pandas as pd\n",
    "\n",
    "from sklearn.datasets import load_boston\n",
    "from sklearn.linear_model import LinearRegression, Ridge, Lasso#, RandomizedLasso is no longer part of sklearn\n",
    "from stability_selection import RandomizedLasso\n",
    "from sklearn.feature_selection import RFE, f_regression\n",
    "from sklearn.preprocessing import MinMaxScaler\n",
    "from sklearn.ensemble import RandomForestRegressor\n",
    "\n",
    "from minepy import MINE\n",
    "\n",
    "from joblib import dump, load"
   ]
  },
  {
   "cell_type": "markdown",
   "metadata": {},
   "source": [
    "## Download data for Rm = $1.5 \\times 10^4$"
   ]
  },
  {
   "cell_type": "code",
   "execution_count": null,
   "metadata": {},
   "outputs": [],
   "source": [
    "!wget -O mfields_R15e3.npz https://sid.erda.dk/public/archives/0cf0c2b6d34e20da8971304b06d8f913/pencil/alpha2/shock_k10_R15000_256_xyaver_alpha_eta/mfields.npz"
   ]
  },
  {
   "cell_type": "markdown",
   "metadata": {},
   "source": [
    "## Convert numpy arrays to dataframe"
   ]
  },
  {
   "cell_type": "code",
   "execution_count": 3,
   "metadata": {},
   "outputs": [],
   "source": [
    "from preprocess import *"
   ]
  },
  {
   "cell_type": "code",
   "execution_count": 4,
   "metadata": {},
   "outputs": [],
   "source": [
    "df15 = gen_df_tave(fname='mfields_R15e3.npz',t1=1500,t2=-1,verbose=0)"
   ]
  },
  {
   "cell_type": "code",
   "execution_count": 5,
   "metadata": {},
   "outputs": [
    {
     "name": "stdout",
     "output_type": "stream",
     "text": [
      "Feature names: ['Bx', 'By', 'Bx By', 'Ex', 'Ey', 'B^2', 'B^2 Bx', 'B^2 By']\n",
      "Feature array shape: (256, 8)\n"
     ]
    },
    {
     "data": {
      "text/html": [
       "<div>\n",
       "<style scoped>\n",
       "    .dataframe tbody tr th:only-of-type {\n",
       "        vertical-align: middle;\n",
       "    }\n",
       "\n",
       "    .dataframe tbody tr th {\n",
       "        vertical-align: top;\n",
       "    }\n",
       "\n",
       "    .dataframe thead th {\n",
       "        text-align: right;\n",
       "    }\n",
       "</style>\n",
       "<table border=\"1\" class=\"dataframe\">\n",
       "  <thead>\n",
       "    <tr style=\"text-align: right;\">\n",
       "      <th></th>\n",
       "      <th>Ex</th>\n",
       "      <th>Ey</th>\n",
       "      <th>B^2</th>\n",
       "      <th>B^2 Bx</th>\n",
       "      <th>B^2 By</th>\n",
       "      <th>Bx</th>\n",
       "      <th>By</th>\n",
       "      <th>Bx By</th>\n",
       "    </tr>\n",
       "  </thead>\n",
       "  <tbody>\n",
       "    <tr>\n",
       "      <th>0</th>\n",
       "      <td>0.000467</td>\n",
       "      <td>0.000502</td>\n",
       "      <td>0.989009</td>\n",
       "      <td>0.692821</td>\n",
       "      <td>0.698131</td>\n",
       "      <td>0.700520</td>\n",
       "      <td>0.705890</td>\n",
       "      <td>0.494490</td>\n",
       "    </tr>\n",
       "    <tr>\n",
       "      <th>1</th>\n",
       "      <td>0.000453</td>\n",
       "      <td>0.000515</td>\n",
       "      <td>0.987386</td>\n",
       "      <td>0.675544</td>\n",
       "      <td>0.711528</td>\n",
       "      <td>0.684174</td>\n",
       "      <td>0.720619</td>\n",
       "      <td>0.493029</td>\n",
       "    </tr>\n",
       "    <tr>\n",
       "      <th>2</th>\n",
       "      <td>0.000439</td>\n",
       "      <td>0.000527</td>\n",
       "      <td>0.985170</td>\n",
       "      <td>0.656874</td>\n",
       "      <td>0.724351</td>\n",
       "      <td>0.666762</td>\n",
       "      <td>0.735254</td>\n",
       "      <td>0.490239</td>\n",
       "    </tr>\n",
       "    <tr>\n",
       "      <th>3</th>\n",
       "      <td>0.000425</td>\n",
       "      <td>0.000538</td>\n",
       "      <td>0.982811</td>\n",
       "      <td>0.637277</td>\n",
       "      <td>0.737016</td>\n",
       "      <td>0.648423</td>\n",
       "      <td>0.749906</td>\n",
       "      <td>0.486256</td>\n",
       "    </tr>\n",
       "    <tr>\n",
       "      <th>4</th>\n",
       "      <td>0.000411</td>\n",
       "      <td>0.000551</td>\n",
       "      <td>0.980822</td>\n",
       "      <td>0.617161</td>\n",
       "      <td>0.750117</td>\n",
       "      <td>0.629228</td>\n",
       "      <td>0.764784</td>\n",
       "      <td>0.481224</td>\n",
       "    </tr>\n",
       "  </tbody>\n",
       "</table>\n",
       "</div>"
      ],
      "text/plain": [
       "         Ex        Ey       B^2    B^2 Bx    B^2 By        Bx        By  \\\n",
       "0  0.000467  0.000502  0.989009  0.692821  0.698131  0.700520  0.705890   \n",
       "1  0.000453  0.000515  0.987386  0.675544  0.711528  0.684174  0.720619   \n",
       "2  0.000439  0.000527  0.985170  0.656874  0.724351  0.666762  0.735254   \n",
       "3  0.000425  0.000538  0.982811  0.637277  0.737016  0.648423  0.749906   \n",
       "4  0.000411  0.000551  0.980822  0.617161  0.750117  0.629228  0.764784   \n",
       "\n",
       "      Bx By  \n",
       "0  0.494490  \n",
       "1  0.493029  \n",
       "2  0.490239  \n",
       "3  0.486256  \n",
       "4  0.481224  "
      ]
     },
     "execution_count": 5,
     "metadata": {},
     "output_type": "execute_result"
    }
   ],
   "source": [
    "# Generate polynomial basis\n",
    "df15_poly = gen_df_poly(df15)\n",
    "df15_poly.head()"
   ]
  },
  {
   "cell_type": "markdown",
   "metadata": {},
   "source": [
    "### Train Test split"
   ]
  },
  {
   "cell_type": "code",
   "execution_count": 6,
   "metadata": {},
   "outputs": [
    {
     "name": "stdout",
     "output_type": "stream",
     "text": [
      "Test size: 0.2\n"
     ]
    }
   ],
   "source": [
    "df15_ss, scl = scale_df(df15_poly)\n",
    "\n",
    "tst_sz = 0.2\n",
    "\n",
    "flds = ['Ex','Ey']\n",
    "fld  ='Ex' # Target\n",
    "\n",
    "#X_train, X_test, y_train, y_test = train_test_seq(df15_poly.drop(flds,axis=1),df15_poly[fld],test_size=tst_sz)\n",
    "X_train, X_test, Y_train, Y_test = train_test_seq(df15_ss.drop(flds,axis=1),df15_ss[fld],test_size=tst_sz)"
   ]
  },
  {
   "cell_type": "code",
   "execution_count": 7,
   "metadata": {},
   "outputs": [
    {
     "data": {
      "text/html": [
       "<div>\n",
       "<style scoped>\n",
       "    .dataframe tbody tr th:only-of-type {\n",
       "        vertical-align: middle;\n",
       "    }\n",
       "\n",
       "    .dataframe tbody tr th {\n",
       "        vertical-align: top;\n",
       "    }\n",
       "\n",
       "    .dataframe thead th {\n",
       "        text-align: right;\n",
       "    }\n",
       "</style>\n",
       "<table border=\"1\" class=\"dataframe\">\n",
       "  <thead>\n",
       "    <tr style=\"text-align: right;\">\n",
       "      <th></th>\n",
       "      <th>B^2</th>\n",
       "      <th>B^2 Bx</th>\n",
       "      <th>B^2 By</th>\n",
       "      <th>Bx</th>\n",
       "      <th>By</th>\n",
       "      <th>Bx By</th>\n",
       "    </tr>\n",
       "  </thead>\n",
       "  <tbody>\n",
       "    <tr>\n",
       "      <th>0</th>\n",
       "      <td>0.419213</td>\n",
       "      <td>1.021195</td>\n",
       "      <td>1.003289</td>\n",
       "      <td>0.996046</td>\n",
       "      <td>1.018508</td>\n",
       "      <td>1.445872</td>\n",
       "    </tr>\n",
       "    <tr>\n",
       "      <th>1</th>\n",
       "      <td>0.370750</td>\n",
       "      <td>0.995885</td>\n",
       "      <td>1.022960</td>\n",
       "      <td>0.972804</td>\n",
       "      <td>1.039760</td>\n",
       "      <td>1.441586</td>\n",
       "    </tr>\n",
       "    <tr>\n",
       "      <th>2</th>\n",
       "      <td>0.304606</td>\n",
       "      <td>0.968535</td>\n",
       "      <td>1.041787</td>\n",
       "      <td>0.948046</td>\n",
       "      <td>1.060878</td>\n",
       "      <td>1.433406</td>\n",
       "    </tr>\n",
       "    <tr>\n",
       "      <th>3</th>\n",
       "      <td>0.234177</td>\n",
       "      <td>0.939827</td>\n",
       "      <td>1.060384</td>\n",
       "      <td>0.921970</td>\n",
       "      <td>1.082018</td>\n",
       "      <td>1.421723</td>\n",
       "    </tr>\n",
       "    <tr>\n",
       "      <th>4</th>\n",
       "      <td>0.174791</td>\n",
       "      <td>0.910358</td>\n",
       "      <td>1.079619</td>\n",
       "      <td>0.894679</td>\n",
       "      <td>1.103484</td>\n",
       "      <td>1.406963</td>\n",
       "    </tr>\n",
       "  </tbody>\n",
       "</table>\n",
       "</div>"
      ],
      "text/plain": [
       "        B^2    B^2 Bx    B^2 By        Bx        By     Bx By\n",
       "0  0.419213  1.021195  1.003289  0.996046  1.018508  1.445872\n",
       "1  0.370750  0.995885  1.022960  0.972804  1.039760  1.441586\n",
       "2  0.304606  0.968535  1.041787  0.948046  1.060878  1.433406\n",
       "3  0.234177  0.939827  1.060384  0.921970  1.082018  1.421723\n",
       "4  0.174791  0.910358  1.079619  0.894679  1.103484  1.406963"
      ]
     },
     "execution_count": 7,
     "metadata": {},
     "output_type": "execute_result"
    }
   ],
   "source": [
    "X_train.head()"
   ]
  },
  {
   "cell_type": "markdown",
   "metadata": {},
   "source": [
    "## Compute correlations"
   ]
  },
  {
   "cell_type": "code",
   "execution_count": 8,
   "metadata": {},
   "outputs": [],
   "source": [
    "df_train = pd.DataFrame.copy(X_train)\n",
    "df_train['target'] = Y_train\n",
    "pcorr_df = df_train.drop(\"target\", axis=1).apply(lambda x: x.corr(df_train.target))\n",
    "pcorr_df_np = pcorr_df.to_numpy() # Conver to numpy\n",
    "#pcorr_df"
   ]
  },
  {
   "cell_type": "markdown",
   "metadata": {},
   "source": [
    "## Construct the feature rankings"
   ]
  },
  {
   "cell_type": "code",
   "execution_count": 9,
   "metadata": {},
   "outputs": [],
   "source": [
    "ranks = pd.DataFrame(index=X_train.columns)"
   ]
  },
  {
   "cell_type": "code",
   "execution_count": 10,
   "metadata": {},
   "outputs": [
    {
     "data": {
      "text/html": [
       "<div>\n",
       "<style scoped>\n",
       "    .dataframe tbody tr th:only-of-type {\n",
       "        vertical-align: middle;\n",
       "    }\n",
       "\n",
       "    .dataframe tbody tr th {\n",
       "        vertical-align: top;\n",
       "    }\n",
       "\n",
       "    .dataframe thead th {\n",
       "        text-align: right;\n",
       "    }\n",
       "</style>\n",
       "<table border=\"1\" class=\"dataframe\">\n",
       "  <thead>\n",
       "    <tr style=\"text-align: right;\">\n",
       "      <th></th>\n",
       "    </tr>\n",
       "  </thead>\n",
       "  <tbody>\n",
       "    <tr>\n",
       "      <th>B^2</th>\n",
       "    </tr>\n",
       "    <tr>\n",
       "      <th>B^2 Bx</th>\n",
       "    </tr>\n",
       "    <tr>\n",
       "      <th>B^2 By</th>\n",
       "    </tr>\n",
       "    <tr>\n",
       "      <th>Bx</th>\n",
       "    </tr>\n",
       "    <tr>\n",
       "      <th>By</th>\n",
       "    </tr>\n",
       "    <tr>\n",
       "      <th>Bx By</th>\n",
       "    </tr>\n",
       "  </tbody>\n",
       "</table>\n",
       "</div>"
      ],
      "text/plain": [
       "Empty DataFrame\n",
       "Columns: []\n",
       "Index: [B^2, B^2 Bx, B^2 By, Bx, By, Bx By]"
      ]
     },
     "execution_count": 10,
     "metadata": {},
     "output_type": "execute_result"
    }
   ],
   "source": [
    "ranks"
   ]
  },
  {
   "cell_type": "code",
   "execution_count": 11,
   "metadata": {},
   "outputs": [
    {
     "name": "stderr",
     "output_type": "stream",
     "text": [
      "/home/fnauman/anaconda3/envs/plotly/lib/python3.7/site-packages/sklearn/linear_model/coordinate_descent.py:475: ConvergenceWarning: Objective did not converge. You might want to increase the number of iterations. Duality gap: 0.023950232811909722, tolerance: 0.01638960849288989\n",
      "  positive)\n"
     ]
    }
   ],
   "source": [
    "lr = LinearRegression(fit_intercept=False)\n",
    "lr.fit(X_train, Y_train)\n",
    "ranks[\"Linear reg\"] = np.abs(lr.coef_)#, names\n",
    "\n",
    "#ridge = Ridge(alpha=7)\n",
    "#ridge.fit(X_train, Y_train)\n",
    "#ranks[\"Ridge\"] = np.abs(ridge.coef_)\n",
    "\n",
    "#lasso = Lasso(alpha=.05, fit_intercept=False)\n",
    "lasso = load('bst_lasso.joblib')\n",
    "lasso.fit(X_train, Y_train)\n",
    "ranks[\"Lasso\"] = np.abs(lasso.coef_)\n",
    "\n",
    "rlasso = RandomizedLasso(alpha=0.04, fit_intercept=False)\n",
    "rlasso.fit(X_train, Y_train)\n",
    "ranks[\"Stability\"] = np.abs(rlasso.coef_)\n",
    "\n",
    "#rf = RandomForestRegressor()\n",
    "rf = load('bst_rf.joblib') # Load the optimized model\n",
    "rf.fit(X_train,Y_train)\n",
    "ranks[\"RF\"] = rf.feature_importances_\n",
    "\n",
    "# RECURSIVE FEATURE ELIMINATION\n",
    "# 1. Linear Regression\n",
    "rfe = RFE(lr, n_features_to_select=1)\n",
    "rfe.fit(X_train,Y_train)\n",
    "#ranks[\"RFE\"] = rfe.ranking_.astype(float)\n",
    "ranks[\"RFE\"] = np.abs(rfe.ranking_.astype(float) - 7)\n",
    "#ranks[\"RFE_sort\"] = np.sort(rfe.ranking_.astype(float))#,reverse=True)#[::-1]\n",
    "#ranks[\"RFE_pd_sort\"] = ranks[\"RFE\"].sort_values()  \n",
    "\n",
    "# 2. Random Forests\n",
    "rfe_rf = RFE(rf, n_features_to_select=1)\n",
    "rfe_rf.fit(X_train,Y_train)\n",
    "#ranks[\"RFE_rf\"] = rfe_rf.ranking_.astype(float)\n",
    "ranks[\"RFE_rf\"] = np.abs(rfe_rf.ranking_.astype(float) - 7)\n",
    "\n",
    "# DO NOT install using conda, use: pip install minepy\n",
    "mine = MINE()\n",
    "mic_scores = []\n",
    "for i in range(X_train.shape[1]):\n",
    "    mine.compute_score(X_train.to_numpy()[:,i], Y_train)\n",
    "    m = mine.mic()\n",
    "    mic_scores.append(m)\n",
    " \n",
    "ranks[\"MIC\"] = np.array(mic_scores)"
   ]
  },
  {
   "cell_type": "code",
   "execution_count": 12,
   "metadata": {},
   "outputs": [
    {
     "data": {
      "text/html": [
       "<div>\n",
       "<style scoped>\n",
       "    .dataframe tbody tr th:only-of-type {\n",
       "        vertical-align: middle;\n",
       "    }\n",
       "\n",
       "    .dataframe tbody tr th {\n",
       "        vertical-align: top;\n",
       "    }\n",
       "\n",
       "    .dataframe thead th {\n",
       "        text-align: right;\n",
       "    }\n",
       "</style>\n",
       "<table border=\"1\" class=\"dataframe\">\n",
       "  <thead>\n",
       "    <tr style=\"text-align: right;\">\n",
       "      <th></th>\n",
       "      <th>Linear reg</th>\n",
       "      <th>Lasso</th>\n",
       "      <th>Stability</th>\n",
       "      <th>RF</th>\n",
       "      <th>RFE</th>\n",
       "      <th>RFE_rf</th>\n",
       "      <th>MIC</th>\n",
       "    </tr>\n",
       "  </thead>\n",
       "  <tbody>\n",
       "    <tr>\n",
       "      <th>B^2</th>\n",
       "      <td>0.037653</td>\n",
       "      <td>0.003740</td>\n",
       "      <td>0.000000</td>\n",
       "      <td>0.003645</td>\n",
       "      <td>2.0</td>\n",
       "      <td>4.0</td>\n",
       "      <td>0.482490</td>\n",
       "    </tr>\n",
       "    <tr>\n",
       "      <th>B^2 Bx</th>\n",
       "      <td>1.720060</td>\n",
       "      <td>0.200741</td>\n",
       "      <td>0.933395</td>\n",
       "      <td>0.690994</td>\n",
       "      <td>5.0</td>\n",
       "      <td>6.0</td>\n",
       "      <td>1.000000</td>\n",
       "    </tr>\n",
       "    <tr>\n",
       "      <th>B^2 By</th>\n",
       "      <td>0.251227</td>\n",
       "      <td>0.018714</td>\n",
       "      <td>0.000000</td>\n",
       "      <td>0.000267</td>\n",
       "      <td>4.0</td>\n",
       "      <td>1.0</td>\n",
       "      <td>0.688393</td>\n",
       "    </tr>\n",
       "    <tr>\n",
       "      <th>Bx</th>\n",
       "      <td>2.700802</td>\n",
       "      <td>0.779052</td>\n",
       "      <td>0.000000</td>\n",
       "      <td>0.304450</td>\n",
       "      <td>6.0</td>\n",
       "      <td>5.0</td>\n",
       "      <td>1.000000</td>\n",
       "    </tr>\n",
       "    <tr>\n",
       "      <th>By</th>\n",
       "      <td>0.236876</td>\n",
       "      <td>0.000000</td>\n",
       "      <td>0.000000</td>\n",
       "      <td>0.000278</td>\n",
       "      <td>3.0</td>\n",
       "      <td>3.0</td>\n",
       "      <td>0.691966</td>\n",
       "    </tr>\n",
       "    <tr>\n",
       "      <th>Bx By</th>\n",
       "      <td>0.017370</td>\n",
       "      <td>0.011295</td>\n",
       "      <td>0.000000</td>\n",
       "      <td>0.000365</td>\n",
       "      <td>1.0</td>\n",
       "      <td>2.0</td>\n",
       "      <td>0.590600</td>\n",
       "    </tr>\n",
       "  </tbody>\n",
       "</table>\n",
       "</div>"
      ],
      "text/plain": [
       "        Linear reg     Lasso  Stability        RF  RFE  RFE_rf       MIC\n",
       "B^2       0.037653  0.003740   0.000000  0.003645  2.0     4.0  0.482490\n",
       "B^2 Bx    1.720060  0.200741   0.933395  0.690994  5.0     6.0  1.000000\n",
       "B^2 By    0.251227  0.018714   0.000000  0.000267  4.0     1.0  0.688393\n",
       "Bx        2.700802  0.779052   0.000000  0.304450  6.0     5.0  1.000000\n",
       "By        0.236876  0.000000   0.000000  0.000278  3.0     3.0  0.691966\n",
       "Bx By     0.017370  0.011295   0.000000  0.000365  1.0     2.0  0.590600"
      ]
     },
     "execution_count": 12,
     "metadata": {},
     "output_type": "execute_result"
    }
   ],
   "source": [
    "ranks"
   ]
  },
  {
   "cell_type": "markdown",
   "metadata": {},
   "source": [
    "## Make sure all values are between 0 and 1"
   ]
  },
  {
   "cell_type": "code",
   "execution_count": 13,
   "metadata": {},
   "outputs": [],
   "source": [
    "minmax = MinMaxScaler()\n",
    "ranks_norm = pd.DataFrame(minmax.fit_transform(ranks),index=X_train.columns,columns=ranks.columns)"
   ]
  },
  {
   "cell_type": "code",
   "execution_count": 14,
   "metadata": {},
   "outputs": [
    {
     "data": {
      "text/html": [
       "<div>\n",
       "<style scoped>\n",
       "    .dataframe tbody tr th:only-of-type {\n",
       "        vertical-align: middle;\n",
       "    }\n",
       "\n",
       "    .dataframe tbody tr th {\n",
       "        vertical-align: top;\n",
       "    }\n",
       "\n",
       "    .dataframe thead th {\n",
       "        text-align: right;\n",
       "    }\n",
       "</style>\n",
       "<table border=\"1\" class=\"dataframe\">\n",
       "  <thead>\n",
       "    <tr style=\"text-align: right;\">\n",
       "      <th></th>\n",
       "      <th>Linear reg</th>\n",
       "      <th>Lasso</th>\n",
       "      <th>Stability</th>\n",
       "      <th>RF</th>\n",
       "      <th>RFE</th>\n",
       "      <th>RFE_rf</th>\n",
       "      <th>MIC</th>\n",
       "    </tr>\n",
       "  </thead>\n",
       "  <tbody>\n",
       "    <tr>\n",
       "      <th>B^2</th>\n",
       "      <td>0.007559</td>\n",
       "      <td>0.004801</td>\n",
       "      <td>0.0</td>\n",
       "      <td>0.004891</td>\n",
       "      <td>0.2</td>\n",
       "      <td>0.6</td>\n",
       "      <td>0.000000</td>\n",
       "    </tr>\n",
       "    <tr>\n",
       "      <th>B^2 Bx</th>\n",
       "      <td>0.634519</td>\n",
       "      <td>0.257674</td>\n",
       "      <td>1.0</td>\n",
       "      <td>1.000000</td>\n",
       "      <td>0.8</td>\n",
       "      <td>1.0</td>\n",
       "      <td>1.000000</td>\n",
       "    </tr>\n",
       "    <tr>\n",
       "      <th>B^2 By</th>\n",
       "      <td>0.087148</td>\n",
       "      <td>0.024022</td>\n",
       "      <td>0.0</td>\n",
       "      <td>0.000000</td>\n",
       "      <td>0.6</td>\n",
       "      <td>0.0</td>\n",
       "      <td>0.397872</td>\n",
       "    </tr>\n",
       "    <tr>\n",
       "      <th>Bx</th>\n",
       "      <td>1.000000</td>\n",
       "      <td>1.000000</td>\n",
       "      <td>0.0</td>\n",
       "      <td>0.440381</td>\n",
       "      <td>1.0</td>\n",
       "      <td>0.8</td>\n",
       "      <td>1.000000</td>\n",
       "    </tr>\n",
       "    <tr>\n",
       "      <th>By</th>\n",
       "      <td>0.081800</td>\n",
       "      <td>0.000000</td>\n",
       "      <td>0.0</td>\n",
       "      <td>0.000015</td>\n",
       "      <td>0.4</td>\n",
       "      <td>0.4</td>\n",
       "      <td>0.404777</td>\n",
       "    </tr>\n",
       "    <tr>\n",
       "      <th>Bx By</th>\n",
       "      <td>0.000000</td>\n",
       "      <td>0.014499</td>\n",
       "      <td>0.0</td>\n",
       "      <td>0.000142</td>\n",
       "      <td>0.0</td>\n",
       "      <td>0.2</td>\n",
       "      <td>0.208905</td>\n",
       "    </tr>\n",
       "  </tbody>\n",
       "</table>\n",
       "</div>"
      ],
      "text/plain": [
       "        Linear reg     Lasso  Stability        RF  RFE  RFE_rf       MIC\n",
       "B^2       0.007559  0.004801        0.0  0.004891  0.2     0.6  0.000000\n",
       "B^2 Bx    0.634519  0.257674        1.0  1.000000  0.8     1.0  1.000000\n",
       "B^2 By    0.087148  0.024022        0.0  0.000000  0.6     0.0  0.397872\n",
       "Bx        1.000000  1.000000        0.0  0.440381  1.0     0.8  1.000000\n",
       "By        0.081800  0.000000        0.0  0.000015  0.4     0.4  0.404777\n",
       "Bx By     0.000000  0.014499        0.0  0.000142  0.0     0.2  0.208905"
      ]
     },
     "execution_count": 14,
     "metadata": {},
     "output_type": "execute_result"
    }
   ],
   "source": [
    "ranks_norm"
   ]
  },
  {
   "cell_type": "markdown",
   "metadata": {},
   "source": [
    "## Pearson correlation coefficients"
   ]
  },
  {
   "cell_type": "code",
   "execution_count": 15,
   "metadata": {},
   "outputs": [],
   "source": [
    "ranks_norm['Corr'] = pcorr_df.abs()"
   ]
  },
  {
   "cell_type": "markdown",
   "metadata": {},
   "source": [
    "## Take mean across all columns for each row (variable)"
   ]
  },
  {
   "cell_type": "code",
   "execution_count": 16,
   "metadata": {},
   "outputs": [],
   "source": [
    "ranks_norm['mean'] = ranks_norm.agg(\"mean\", axis=\"columns\")"
   ]
  },
  {
   "cell_type": "code",
   "execution_count": 17,
   "metadata": {},
   "outputs": [
    {
     "data": {
      "text/html": [
       "<div>\n",
       "<style scoped>\n",
       "    .dataframe tbody tr th:only-of-type {\n",
       "        vertical-align: middle;\n",
       "    }\n",
       "\n",
       "    .dataframe tbody tr th {\n",
       "        vertical-align: top;\n",
       "    }\n",
       "\n",
       "    .dataframe thead th {\n",
       "        text-align: right;\n",
       "    }\n",
       "</style>\n",
       "<table border=\"1\" class=\"dataframe\">\n",
       "  <thead>\n",
       "    <tr style=\"text-align: right;\">\n",
       "      <th></th>\n",
       "      <th>Linear reg</th>\n",
       "      <th>Lasso</th>\n",
       "      <th>Stability</th>\n",
       "      <th>RF</th>\n",
       "      <th>RFE</th>\n",
       "      <th>RFE_rf</th>\n",
       "      <th>MIC</th>\n",
       "      <th>Corr</th>\n",
       "      <th>mean</th>\n",
       "    </tr>\n",
       "  </thead>\n",
       "  <tbody>\n",
       "    <tr>\n",
       "      <th>B^2</th>\n",
       "      <td>0.007559</td>\n",
       "      <td>0.004801</td>\n",
       "      <td>0.0</td>\n",
       "      <td>0.004891</td>\n",
       "      <td>0.2</td>\n",
       "      <td>0.6</td>\n",
       "      <td>0.000000</td>\n",
       "      <td>0.101946</td>\n",
       "      <td>0.114900</td>\n",
       "    </tr>\n",
       "    <tr>\n",
       "      <th>B^2 Bx</th>\n",
       "      <td>0.634519</td>\n",
       "      <td>0.257674</td>\n",
       "      <td>1.0</td>\n",
       "      <td>1.000000</td>\n",
       "      <td>0.8</td>\n",
       "      <td>1.0</td>\n",
       "      <td>1.000000</td>\n",
       "      <td>0.997166</td>\n",
       "      <td>0.836170</td>\n",
       "    </tr>\n",
       "    <tr>\n",
       "      <th>B^2 By</th>\n",
       "      <td>0.087148</td>\n",
       "      <td>0.024022</td>\n",
       "      <td>0.0</td>\n",
       "      <td>0.000000</td>\n",
       "      <td>0.6</td>\n",
       "      <td>0.0</td>\n",
       "      <td>0.397872</td>\n",
       "      <td>0.120997</td>\n",
       "      <td>0.153755</td>\n",
       "    </tr>\n",
       "    <tr>\n",
       "      <th>Bx</th>\n",
       "      <td>1.000000</td>\n",
       "      <td>1.000000</td>\n",
       "      <td>0.0</td>\n",
       "      <td>0.440381</td>\n",
       "      <td>1.0</td>\n",
       "      <td>0.8</td>\n",
       "      <td>1.000000</td>\n",
       "      <td>0.998248</td>\n",
       "      <td>0.779829</td>\n",
       "    </tr>\n",
       "    <tr>\n",
       "      <th>By</th>\n",
       "      <td>0.081800</td>\n",
       "      <td>0.000000</td>\n",
       "      <td>0.0</td>\n",
       "      <td>0.000015</td>\n",
       "      <td>0.4</td>\n",
       "      <td>0.4</td>\n",
       "      <td>0.404777</td>\n",
       "      <td>0.117886</td>\n",
       "      <td>0.175560</td>\n",
       "    </tr>\n",
       "    <tr>\n",
       "      <th>Bx By</th>\n",
       "      <td>0.000000</td>\n",
       "      <td>0.014499</td>\n",
       "      <td>0.0</td>\n",
       "      <td>0.000142</td>\n",
       "      <td>0.0</td>\n",
       "      <td>0.2</td>\n",
       "      <td>0.208905</td>\n",
       "      <td>0.136582</td>\n",
       "      <td>0.070016</td>\n",
       "    </tr>\n",
       "  </tbody>\n",
       "</table>\n",
       "</div>"
      ],
      "text/plain": [
       "        Linear reg     Lasso  Stability        RF  RFE  RFE_rf       MIC  \\\n",
       "B^2       0.007559  0.004801        0.0  0.004891  0.2     0.6  0.000000   \n",
       "B^2 Bx    0.634519  0.257674        1.0  1.000000  0.8     1.0  1.000000   \n",
       "B^2 By    0.087148  0.024022        0.0  0.000000  0.6     0.0  0.397872   \n",
       "Bx        1.000000  1.000000        0.0  0.440381  1.0     0.8  1.000000   \n",
       "By        0.081800  0.000000        0.0  0.000015  0.4     0.4  0.404777   \n",
       "Bx By     0.000000  0.014499        0.0  0.000142  0.0     0.2  0.208905   \n",
       "\n",
       "            Corr      mean  \n",
       "B^2     0.101946  0.114900  \n",
       "B^2 Bx  0.997166  0.836170  \n",
       "B^2 By  0.120997  0.153755  \n",
       "Bx      0.998248  0.779829  \n",
       "By      0.117886  0.175560  \n",
       "Bx By   0.136582  0.070016  "
      ]
     },
     "execution_count": 17,
     "metadata": {},
     "output_type": "execute_result"
    }
   ],
   "source": [
    "ranks_norm"
   ]
  },
  {
   "cell_type": "code",
   "execution_count": 18,
   "metadata": {},
   "outputs": [
    {
     "data": {
      "text/plain": [
       "'\\\\begin{tabular}{lrrrrrrrrr}\\n\\\\toprule\\n{} &  Linear reg &     Lasso &  Stability &        RF &  RFE &  RFE\\\\_rf &       MIC &      Corr &      mean \\\\\\\\\\n\\\\midrule\\nB\\\\textasciicircum 2    &    0.007559 &  0.004801 &        0.0 &  0.004891 &  0.2 &     0.6 &  0.000000 &  0.101946 &  0.114900 \\\\\\\\\\nB\\\\textasciicircum 2 Bx &    0.634519 &  0.257674 &        1.0 &  1.000000 &  0.8 &     1.0 &  1.000000 &  0.997166 &  0.836170 \\\\\\\\\\nB\\\\textasciicircum 2 By &    0.087148 &  0.024022 &        0.0 &  0.000000 &  0.6 &     0.0 &  0.397872 &  0.120997 &  0.153755 \\\\\\\\\\nBx     &    1.000000 &  1.000000 &        0.0 &  0.440381 &  1.0 &     0.8 &  1.000000 &  0.998248 &  0.779829 \\\\\\\\\\nBy     &    0.081800 &  0.000000 &        0.0 &  0.000015 &  0.4 &     0.4 &  0.404777 &  0.117886 &  0.175560 \\\\\\\\\\nBx By  &    0.000000 &  0.014499 &        0.0 &  0.000142 &  0.0 &     0.2 &  0.208905 &  0.136582 &  0.070016 \\\\\\\\\\n\\\\bottomrule\\n\\\\end{tabular}\\n'"
      ]
     },
     "execution_count": 18,
     "metadata": {},
     "output_type": "execute_result"
    }
   ],
   "source": [
    "ranks_norm.to_latex()"
   ]
  },
  {
   "cell_type": "markdown",
   "metadata": {},
   "source": [
    "## Comparison of Mutual Information with Pearson and Spearman correlation"
   ]
  },
  {
   "cell_type": "code",
   "execution_count": 28,
   "metadata": {},
   "outputs": [
    {
     "name": "stdout",
     "output_type": "stream",
     "text": [
      "1.0000000000000002\n",
      "          x       x2\n",
      "x   1.00000  0.00672\n",
      "x2  0.00672  1.00000\n",
      "           x        x2\n",
      "x   1.000000 -0.023768\n",
      "x2 -0.023768  1.000000\n"
     ]
    }
   ],
   "source": [
    "#x = np.linspace(-1,1,20)\n",
    "x  = np.random.uniform(-1,+1,1000)\n",
    "x2 = x**2\n",
    "df_dummy = pd.DataFrame({'x': x, 'x2': x2})\n",
    "mine.compute_score(x,x**2)\n",
    "print(mine.mic())\n",
    "print(df_dummy.corr())\n",
    "print(df_dummy.corr(method='spearman'))"
   ]
  },
  {
   "cell_type": "code",
   "execution_count": null,
   "metadata": {},
   "outputs": [],
   "source": []
  }
 ],
 "metadata": {
  "kernelspec": {
   "display_name": "Python 3",
   "language": "python",
   "name": "python3"
  },
  "language_info": {
   "codemirror_mode": {
    "name": "ipython",
    "version": 3
   },
   "file_extension": ".py",
   "mimetype": "text/x-python",
   "name": "python",
   "nbconvert_exporter": "python",
   "pygments_lexer": "ipython3",
   "version": "3.7.3"
  }
 },
 "nbformat": 4,
 "nbformat_minor": 2
}
