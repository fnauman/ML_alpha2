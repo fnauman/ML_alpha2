{
 "cells": [
  {
   "cell_type": "markdown",
   "metadata": {
    "colab_type": "text",
    "id": "BXS4JDLmybZw"
   },
   "source": [
    "## LASSO and Random Forest fits"
   ]
  },
  {
   "cell_type": "markdown",
   "metadata": {
    "colab_type": "text",
    "id": "uDPZHGxgoos_",
    "toc-hr-collapsed": true
   },
   "source": [
    "# Load/import libraries"
   ]
  },
  {
   "cell_type": "code",
   "execution_count": 1,
   "metadata": {
    "colab": {},
    "colab_type": "code",
    "id": "QE2w5TS1f7JS"
   },
   "outputs": [],
   "source": [
    "import pandas as pd\n",
    "import seaborn as sns\n",
    "import matplotlib.pyplot as plt\n",
    "import numpy as np\n",
    "import os\n",
    "#from sklearn.metrics import mean_squared_error,mean_absolute_error\n",
    "\n",
    "%load_ext autoreload\n",
    "%autoreload 2\n",
    "%matplotlib inline"
   ]
  },
  {
   "cell_type": "code",
   "execution_count": 2,
   "metadata": {
    "colab": {},
    "colab_type": "code",
    "id": "dzyOFQwovOof"
   },
   "outputs": [],
   "source": [
    "from preprocess import *"
   ]
  },
  {
   "cell_type": "markdown",
   "metadata": {
    "colab_type": "text",
    "id": "bggEO3pYBvMQ",
    "toc-hr-collapsed": true
   },
   "source": [
    "# Data"
   ]
  },
  {
   "cell_type": "markdown",
   "metadata": {
    "colab_type": "text",
    "id": "PnX8Gw8Ambjs"
   },
   "source": [
    "## Download"
   ]
  },
  {
   "cell_type": "markdown",
   "metadata": {},
   "source": [
    "**Should really define a function that downloads the data and loads it**"
   ]
  },
  {
   "cell_type": "code",
   "execution_count": 3,
   "metadata": {
    "colab": {},
    "colab_type": "code",
    "id": "wCYGXU1GL-eW"
   },
   "outputs": [],
   "source": [
    "# bxm,bym,jxm,jym,emfx,emfy,u2tot,b2tot\n",
    "# tres,Rm,uave,kf,tt\n",
    "pth='../data/alpha2/'\n",
    "\n",
    "mf15 = np.load(pth + 'mfields_R15e3.npz')\n",
    "mf9  = np.load(pth + 'mfields_R9e3.npz') \n",
    "mf5  = np.load(pth + 'mfields_R5e3.npz')\n",
    "mf1  = np.load(pth + 'mfields_R1e3.npz') \n",
    "mf05 = np.load(pth + 'mfields_R5e2.npz')"
   ]
  },
  {
   "cell_type": "markdown",
   "metadata": {
    "colab_type": "text",
    "id": "8QbGs_qeozx6"
   },
   "source": [
    "## Pre-process\n",
    "\n",
    "Time averaged data stored in a pandas dataframe"
   ]
  },
  {
   "cell_type": "code",
   "execution_count": 4,
   "metadata": {
    "colab": {
     "base_uri": "https://localhost:8080/",
     "height": 647
    },
    "colab_type": "code",
    "id": "_GSEB7K6zps3",
    "outputId": "1e4165ee-f097-48f8-cffa-e39cb1306906"
   },
   "outputs": [],
   "source": [
    "df15 = gen_df_tave(fname=pth + 'mfields_R15e3.npz',t1=1500,t2=-1,verbose=0)\n",
    "df9  = gen_df_tave(fname=pth + 'mfields_R9e3.npz',t1=1500,t2=-1,verbose=0)\n",
    "df5  = gen_df_tave(fname=pth + 'mfields_R5e3.npz',t1=1000,t2=-1,verbose=0)\n",
    "df1  = gen_df_tave(fname=pth + 'mfields_R1e3.npz',t1=1250,t2=2000,verbose=0)\n",
    "df05 = gen_df_tave(fname=pth + 'mfields_R5e2.npz',t1=4000,t2=5000,verbose=0)"
   ]
  },
  {
   "cell_type": "markdown",
   "metadata": {
    "colab_type": "text",
    "id": "81XLXN75HtM4",
    "toc-hr-collapsed": false
   },
   "source": [
    "# Lasso"
   ]
  },
  {
   "cell_type": "code",
   "execution_count": 5,
   "metadata": {
    "colab": {},
    "colab_type": "code",
    "id": "QX4CVGMcHwkm"
   },
   "outputs": [],
   "source": [
    "from lasso_fits import *"
   ]
  },
  {
   "cell_type": "markdown",
   "metadata": {
    "colab_type": "text",
    "id": "Ao0chMg05JRX"
   },
   "source": [
    "## Linear basis"
   ]
  },
  {
   "cell_type": "code",
   "execution_count": 6,
   "metadata": {
    "colab": {
     "base_uri": "https://localhost:8080/",
     "height": 1271
    },
    "colab_type": "code",
    "id": "Bvhdhqym5LRX",
    "outputId": "eb4d27c8-b499-4711-e77d-61e91fdbec65"
   },
   "outputs": [
    {
     "name": "stdout",
     "output_type": "stream",
     "text": [
      "Test size: 0.2\n",
      "Test,train shapes: (52, 4) (204, 4)\n",
      "Fitting 2 folds for each of 5 candidates, totalling 10 fits\n"
     ]
    },
    {
     "name": "stderr",
     "output_type": "stream",
     "text": [
      "[Parallel(n_jobs=4)]: Using backend LokyBackend with 4 concurrent workers.\n",
      "[Parallel(n_jobs=4)]: Done  10 out of  10 | elapsed:    0.7s finished\n"
     ]
    },
    {
     "name": "stdout",
     "output_type": "stream",
     "text": [
      "Tuned Lasso Alpha: {'lasso__alpha': 0.01}\n",
      "Tuned Lasso Score: -0.11922966761505314\n",
      "BEST FIT model\n",
      "Mean Absolute Error: 0.11922966761505314\n",
      "LASSO score: 0.11238308368911176\n",
      "Coefficients: [ 0.79561955 -0.00678383 -0.16492857  0.00930345]\n"
     ]
    },
    {
     "data": {
      "image/png": "[encoded data removed]",
      "text/plain": [
       "<Figure size 864x504 with 1 Axes>"
      ]
     },
     "metadata": {
      "needs_background": "light"
     },
     "output_type": "display_data"
    }
   ],
   "source": [
    "df15_ss, scl = scale_df(df15)\n",
    "y_train,y_pred,y_test = lasso_gridcv(df15_ss)"
   ]
  },
  {
   "cell_type": "markdown",
   "metadata": {
    "colab_type": "text",
    "id": "s4ITlChKGEY3",
    "toc-hr-collapsed": false
   },
   "source": [
    "# Random forests"
   ]
  },
  {
   "cell_type": "code",
   "execution_count": 7,
   "metadata": {},
   "outputs": [],
   "source": [
    "from rf_fits import *"
   ]
  },
  {
   "cell_type": "markdown",
   "metadata": {
    "colab_type": "text",
    "id": "ByFBue_GQvpO"
   },
   "source": [
    "## Linear"
   ]
  },
  {
   "cell_type": "code",
   "execution_count": 8,
   "metadata": {
    "colab": {
     "base_uri": "https://localhost:8080/",
     "height": 2286
    },
    "colab_type": "code",
    "id": "efc6pZKeHWsX",
    "outputId": "0165bb8f-3479-4b24-944f-4606e5167625"
   },
   "outputs": [
    {
     "name": "stdout",
     "output_type": "stream",
     "text": [
      "Test size: 0.2\n",
      "Test,train shapes: (52, 4) (204, 4)\n",
      "Fitting 2 folds for each of 108 candidates, totalling 216 fits\n"
     ]
    },
    {
     "name": "stderr",
     "output_type": "stream",
     "text": [
      "[Parallel(n_jobs=4)]: Using backend LokyBackend with 4 concurrent workers.\n"
     ]
    },
    {
     "name": "stdout",
     "output_type": "stream",
     "text": [
      "MAE: 0.08652315676576156\n",
      "Tuned RF params: {'rf__max_depth': 8, 'rf__max_features': 'auto', 'rf__min_samples_leaf': 2, 'rf__n_estimators': 16}\n",
      "Tuned RF score:  -0.08652315676576156\n",
      "MAE: 0.08652315676576156\n",
      "R^2: 0.46345245436874194\n",
      "Best model important features: SKLEARN\n",
      "[0.77801629 0.00448691 0.21156309 0.00593372]\n"
     ]
    },
    {
     "name": "stderr",
     "output_type": "stream",
     "text": [
      "[Parallel(n_jobs=4)]: Done 216 out of 216 | elapsed:    0.8s finished\n"
     ]
    },
    {
     "data": {
      "image/png": "[encoded data removed]",
      "text/plain": [
       "<Figure size 864x504 with 1 Axes>"
      ]
     },
     "metadata": {
      "needs_background": "light"
     },
     "output_type": "display_data"
    }
   ],
   "source": [
    "df15_ss, _ = scale_df(df15)\n",
    "y_trainrf,y_predrf,y_testrf = rf_gridcv(df15_ss)#, fi_plts=True)"
   ]
  },
  {
   "cell_type": "markdown",
   "metadata": {},
   "source": [
    "## Visualize individual trees"
   ]
  },
  {
   "cell_type": "code",
   "execution_count": 9,
   "metadata": {},
   "outputs": [
    {
     "data": {
      "text/plain": [
       "DecisionTreeRegressor(criterion='mae', max_depth=8, max_features='auto',\n",
       "           max_leaf_nodes=None, min_impurity_decrease=0.0,\n",
       "           min_impurity_split=None, min_samples_leaf=2,\n",
       "           min_samples_split=2, min_weight_fraction_leaf=0.0,\n",
       "           presort=False, random_state=1201263687, splitter='best')"
      ]
     },
     "execution_count": 9,
     "metadata": {},
     "output_type": "execute_result"
    }
   ],
   "source": [
    "# Load the best model chosen by grid search\n",
    "\n",
    "from joblib import load\n",
    "bst_rf = load('bst_rf.joblib')\n",
    "estimator = bst_rf.estimators_[5]\n",
    "estimator"
   ]
  },
  {
   "cell_type": "code",
   "execution_count": 10,
   "metadata": {},
   "outputs": [
    {
     "data": {
      "text/plain": [
       "True"
      ]
     },
     "execution_count": 10,
     "metadata": {},
     "output_type": "execute_result"
    }
   ],
   "source": [
    "from sklearn.tree import export_graphviz\n",
    "import pydotplus\n",
    "import collections\n",
    "#from IPython import display\n",
    "\n",
    "flds = ['Ex','Ey']\n",
    "df_feats = df15_ss.drop(flds,axis=1)\n",
    "\n",
    "tree0 = export_graphviz(estimator,\n",
    "                feature_names=df_feats.columns,\n",
    "                filled=True,\n",
    "                rounded=True,\n",
    "                rotate=True)\n",
    "#display.display(tree0)\n",
    "\n",
    "graph = pydotplus.graph_from_dot_data(tree0)\n",
    "\n",
    "colors = ('turquoise', 'orange')\n",
    "edges = collections.defaultdict(list)\n",
    "\n",
    "for edge in graph.get_edge_list():\n",
    "    edges[edge.get_source()].append(int(edge.get_destination()))\n",
    "\n",
    "for edge in edges:\n",
    "    edges[edge].sort()    \n",
    "    for i in range(2):\n",
    "        dest = graph.get_node(str(edges[edge][i]))[0]\n",
    "        dest.set_fillcolor(colors[i])\n",
    "        \n",
    "graph.write_png('tree.png')"
   ]
  },
  {
   "cell_type": "code",
   "execution_count": 11,
   "metadata": {},
   "outputs": [],
   "source": [
    "# Uncomment to display the tree in jupyter \n",
    "#from IPython.display import Image\n",
    "#Image(graph.create_png())"
   ]
  },
  {
   "cell_type": "markdown",
   "metadata": {},
   "source": [
    "## Sci-kit Learn's Feature Importances"
   ]
  },
  {
   "cell_type": "code",
   "execution_count": 12,
   "metadata": {},
   "outputs": [
    {
     "data": {
      "text/plain": [
       "array([0.77801629, 0.00448691, 0.21156309, 0.00593372])"
      ]
     },
     "execution_count": 12,
     "metadata": {},
     "output_type": "execute_result"
    }
   ],
   "source": [
    "from joblib import load\n",
    "bst_rf = load('bst_rf.joblib')\n",
    "bst_rf.feature_importances_"
   ]
  },
  {
   "cell_type": "code",
   "execution_count": 13,
   "metadata": {},
   "outputs": [
    {
     "data": {
      "text/plain": [
       "array([ 0.79561955, -0.00678383, -0.16492857,  0.00930345])"
      ]
     },
     "execution_count": 13,
     "metadata": {},
     "output_type": "execute_result"
    }
   ],
   "source": [
    "bst_lasso = load('bst_lasso.joblib')\n",
    "bst_lasso.coef_"
   ]
  },
  {
   "cell_type": "code",
   "execution_count": 14,
   "metadata": {},
   "outputs": [],
   "source": [
    "flds = ['Ex','Ey']\n",
    "df_feats = df15_ss.drop(flds,axis=1)\n",
    "x_feats = list(df_feats.columns)"
   ]
  },
  {
   "cell_type": "code",
   "execution_count": 15,
   "metadata": {},
   "outputs": [],
   "source": [
    "#plt.bar(x_feats, bst_rf.feature_importances_, color=['red','green','blue','black'])\n",
    "#plt.bar(x_feats, bst_lasso.coef_, color=['k','y','k','y'])"
   ]
  },
  {
   "cell_type": "code",
   "execution_count": 25,
   "metadata": {},
   "outputs": [
    {
     "data": {
      "image/png": "[encoded data removed]",
      "text/plain": [
       "<Figure size 432x288 with 1 Axes>"
      ]
     },
     "metadata": {
      "needs_background": "light"
     },
     "output_type": "display_data"
    }
   ],
   "source": [
    "n_groups = 4\n",
    "index = np.arange(n_groups)\n",
    "bar_width = 0.25\n",
    "xlabs = [r'$\\overline{B}_x$', r'$\\overline{B}_y$', \n",
    "         r'$\\overline{J}_x$', r'$\\overline{J}_y$']\n",
    "\n",
    "opacity = 0.4\n",
    "error_config = {'ecolor': '0.3'}\n",
    "\n",
    "fig, ax = plt.subplots()\n",
    "\n",
    "rects1 = ax.bar(index, bst_rf.feature_importances_, bar_width,\n",
    "                alpha=opacity, color='b',\n",
    "                #yerr=std_men, error_kw=error_config,\n",
    "                label='RF')\n",
    "\n",
    "rects2 = ax.bar(index + bar_width, bst_lasso.coef_, bar_width,\n",
    "                alpha=opacity, color='r',\n",
    "                #yerr=std_women, error_kw=error_config,\n",
    "                label='LASSO')\n",
    "\n",
    "#ax.set_xlabel('Fields')\n",
    "ax.set_ylabel('Scores', fontsize=14)\n",
    "#ax.set_title('Scores by group and gender')\n",
    "ax.set_xticks(index + bar_width / 2)\n",
    "#ax.set_xticklabels(x_feats)\n",
    "ax.set_xticklabels(xlabs, fontsize=14)\n",
    "ax.legend()\n",
    "\n",
    "#fig.tight_layout()\n",
    "#plt.show()\n",
    "\n",
    "fig.savefig('RFvsLASSO.pdf', bbox_inches='tight')"
   ]
  },
  {
   "cell_type": "markdown",
   "metadata": {},
   "source": [
    "## Comparison: RF vs LASSO"
   ]
  },
  {
   "cell_type": "code",
   "execution_count": 17,
   "metadata": {},
   "outputs": [
    {
     "name": "stdout",
     "output_type": "stream",
     "text": [
      "(52,) (52,)\n"
     ]
    }
   ],
   "source": [
    "print(y_pred.shape,y_predrf.shape)"
   ]
  },
  {
   "cell_type": "code",
   "execution_count": 18,
   "metadata": {},
   "outputs": [
    {
     "data": {
      "image/png": "[encoded data removed]",
      "text/plain": [
       "<Figure size 432x288 with 1 Axes>"
      ]
     },
     "metadata": {
      "needs_background": "light"
     },
     "output_type": "display_data"
    }
   ],
   "source": [
    "z_ax = np.linspace(0,2*np.pi,256)\n",
    "\n",
    "fig,ax=plt.subplots()\n",
    "        \n",
    "fld_label = r\"$\\mathcal{E}_x$\" #if fld=='Ex' else r\"$\\mathcal{E}_y$\"\n",
    "        \n",
    "ax.plot(np.linspace(0,2*np.pi,256),df15_ss['Ex'],label=fld_label)\n",
    "ax.plot(z_ax[y_train.shape[0]:],y_pred,'r--',lw=2,label=\"LASSO fit\")\n",
    "ax.plot(z_ax[y_train.shape[0]:],y_predrf,'g-.',lw=3,label=\"RF fit\")\n",
    "        \n",
    "ax.set_ylim([-1.5,1.5])\n",
    "    \n",
    "ax.legend()\n",
    "ax.set_xlabel('z',fontsize=14)\n",
    "    \n",
    "fig.savefig('df15_SPACE_comparison.pdf',bbox_inches='tight')"
   ]
  },
  {
   "cell_type": "markdown",
   "metadata": {},
   "source": [
    "## Run through the rest of the models"
   ]
  },
  {
   "cell_type": "code",
   "execution_count": 19,
   "metadata": {},
   "outputs": [],
   "source": [
    "df_list = {'df05':df05, 'df1':df1, 'df5':df5, 'df9':df9}#, 'df15':df15}"
   ]
  },
  {
   "cell_type": "markdown",
   "metadata": {},
   "source": [
    "### LASSO"
   ]
  },
  {
   "cell_type": "code",
   "execution_count": 20,
   "metadata": {
    "colab": {
     "base_uri": "https://localhost:8080/",
     "height": 5837
    },
    "colab_type": "code",
    "id": "z377UsZkAzxI",
    "outputId": "fad566a5-5a1c-4683-9834-319a73fd620c"
   },
   "outputs": [
    {
     "name": "stdout",
     "output_type": "stream",
     "text": [
      "Data:  df05\n",
      "Test size: 0.2\n",
      "Test,train shapes: (52, 4) (204, 4)\n",
      "Fitting 2 folds for each of 5 candidates, totalling 10 fits\n",
      "Tuned Lasso Alpha: {'lasso__alpha': 0.001}\n",
      "Tuned Lasso Score: -0.005242940663544219\n",
      "BEST FIT model\n",
      "Mean Absolute Error: 0.005242940663544219\n",
      "LASSO score: 0.9996152359413041\n",
      "Coefficients: [ 0.11804596 -0.00981516 -0.88119021  0.        ]\n",
      "Data:  df1\n",
      "Test size: 0.2\n",
      "Test,train shapes: (52, 4) (204, 4)\n",
      "Fitting 2 folds for each of 5 candidates, totalling 10 fits\n",
      "Tuned Lasso Alpha: {'lasso__alpha': 0.001}\n",
      "Tuned Lasso Score: -0.06800041596262422\n",
      "BEST FIT model\n",
      "Mean Absolute Error: 0.06800041596262422\n",
      "LASSO score: 0.973233493714966\n",
      "Coefficients: [ 0.50341704  0.08226693 -0.49331852  0.09500927]\n",
      "Data:  df5\n",
      "Test size: 0.2\n",
      "Test,train shapes:"
     ]
    },
    {
     "name": "stderr",
     "output_type": "stream",
     "text": [
      "[Parallel(n_jobs=4)]: Using backend LokyBackend with 4 concurrent workers.\n",
      "[Parallel(n_jobs=4)]: Done   3 out of  10 | elapsed:    0.0s remaining:    0.0s\n",
      "[Parallel(n_jobs=4)]: Done  10 out of  10 | elapsed:    0.0s finished\n",
      "[Parallel(n_jobs=4)]: Using backend LokyBackend with 4 concurrent workers.\n",
      "[Parallel(n_jobs=4)]: Done   3 out of  10 | elapsed:    0.0s remaining:    0.0s\n",
      "[Parallel(n_jobs=4)]: Done  10 out of  10 | elapsed:    0.0s finished\n"
     ]
    },
    {
     "name": "stdout",
     "output_type": "stream",
     "text": [
      " (52, 4) (204, 4)\n",
      "Fitting 2 folds for each of 5 candidates, totalling 10 fits\n",
      "Tuned Lasso Alpha: {'lasso__alpha': 0.001}\n",
      "Tuned Lasso Score: -0.15915495738694485\n",
      "BEST FIT model\n",
      "Mean Absolute Error: 0.15915495738694485\n",
      "LASSO score: 0.8180269157347644\n",
      "Coefficients: [ 0.84486987  0.39399547 -0.         -0.01470044]\n",
      "Data:  df9\n",
      "Test size: 0.2\n",
      "Test,train shapes: (52, 4) (204, 4)\n",
      "Fitting 2 folds for each of 5 candidates, totalling 10 fits\n",
      "Tuned Lasso Alpha: {'lasso__alpha': 0.001}\n",
      "Tuned Lasso Score: -0.044395917244967706\n",
      "BEST FIT model\n"
     ]
    },
    {
     "name": "stderr",
     "output_type": "stream",
     "text": [
      "[Parallel(n_jobs=4)]: Using backend LokyBackend with 4 concurrent workers.\n",
      "[Parallel(n_jobs=4)]: Done   3 out of  10 | elapsed:    0.0s remaining:    0.0s\n",
      "[Parallel(n_jobs=4)]: Done  10 out of  10 | elapsed:    0.0s finished\n",
      "[Parallel(n_jobs=4)]: Using backend LokyBackend with 4 concurrent workers.\n",
      "[Parallel(n_jobs=4)]: Done   3 out of  10 | elapsed:    0.0s remaining:    0.0s\n",
      "[Parallel(n_jobs=4)]: Done  10 out of  10 | elapsed:    0.0s finished\n"
     ]
    },
    {
     "name": "stdout",
     "output_type": "stream",
     "text": [
      "Mean Absolute Error: 0.044395917244967706\n",
      "LASSO score: 0.9885721424732687\n",
      "Coefficients: [ 0.77544571 -0.         -0.21802245  0.01393413]\n"
     ]
    },
    {
     "data": {
      "image/png": "[encoded data removed]",
      "text/plain": [
       "<Figure size 864x504 with 1 Axes>"
      ]
     },
     "metadata": {
      "needs_background": "light"
     },
     "output_type": "display_data"
    },
    {
     "data": {
      "image/png": "[encoded data removed]",
      "text/plain": [
       "<Figure size 864x504 with 1 Axes>"
      ]
     },
     "metadata": {
      "needs_background": "light"
     },
     "output_type": "display_data"
    },
    {
     "data": {
      "image/png": "[encoded data removed]",
      "text/plain": [
       "<Figure size 864x504 with 1 Axes>"
      ]
     },
     "metadata": {
      "needs_background": "light"
     },
     "output_type": "display_data"
    },
    {
     "data": {
      "image/png": "[encoded data removed]",
      "text/plain": [
       "<Figure size 864x504 with 1 Axes>"
      ]
     },
     "metadata": {
      "needs_background": "light"
     },
     "output_type": "display_data"
    }
   ],
   "source": [
    "for key,data in df_list.items():\n",
    "    data_ss, _ = scale_df(data)\n",
    "    print('Data: ',key)\n",
    "    lasso_gridcv(data_ss,name=key)#,fi_plts=True)"
   ]
  },
  {
   "cell_type": "markdown",
   "metadata": {},
   "source": [
    "### Random Forests"
   ]
  },
  {
   "cell_type": "code",
   "execution_count": 21,
   "metadata": {
    "colab": {},
    "colab_type": "code",
    "id": "B0KxWuLnTuUe"
   },
   "outputs": [
    {
     "name": "stdout",
     "output_type": "stream",
     "text": [
      "Data:  df05\n",
      "Test size: 0.2\n",
      "Test,train shapes: (52, 4) (204, 4)\n",
      "Fitting 2 folds for each of 108 candidates, totalling 216 fits\n"
     ]
    },
    {
     "name": "stderr",
     "output_type": "stream",
     "text": [
      "[Parallel(n_jobs=4)]: Using backend LokyBackend with 4 concurrent workers.\n",
      "[Parallel(n_jobs=4)]: Done 216 out of 216 | elapsed:    0.9s finished\n",
      "[Parallel(n_jobs=4)]: Using backend LokyBackend with 4 concurrent workers.\n"
     ]
    },
    {
     "name": "stdout",
     "output_type": "stream",
     "text": [
      "MAE: 0.09728642454361545\n",
      "Tuned RF params: {'rf__max_depth': 4, 'rf__max_features': 'auto', 'rf__min_samples_leaf': 2, 'rf__n_estimators': 8}\n",
      "Tuned RF score:  -0.09728642454361545\n",
      "MAE: 0.09728642454361545\n",
      "R^2: 0.8305164627428137\n",
      "Best model important features: SKLEARN\n",
      "[0.20930425 0.00549457 0.78520118 0.        ]\n",
      "Data:  df1\n",
      "Test size: 0.2\n",
      "Test,train shapes: (52, 4) (204, 4)\n",
      "Fitting 2 folds for each of 108 candidates, totalling 216 fits\n"
     ]
    },
    {
     "name": "stderr",
     "output_type": "stream",
     "text": [
      "[Parallel(n_jobs=4)]: Done 216 out of 216 | elapsed:    0.9s finished\n",
      "[Parallel(n_jobs=4)]: Using backend LokyBackend with 4 concurrent workers.\n"
     ]
    },
    {
     "name": "stdout",
     "output_type": "stream",
     "text": [
      "MAE: 0.15175169886926357\n",
      "Tuned RF params: {'rf__max_depth': 8, 'rf__max_features': 'auto', 'rf__min_samples_leaf': 2, 'rf__n_estimators': 4}\n",
      "Tuned RF score:  -0.15175169886926357\n",
      "MAE: 0.15175169886926357\n",
      "R^2: 0.8568263261651737\n",
      "Best model important features: SKLEARN\n",
      "[0.03482231 0.02984677 0.92804777 0.00728315]\n",
      "Data:  df5\n",
      "Test size: 0.2\n",
      "Test,train shapes: (52, 4) (204, 4)\n",
      "Fitting 2 folds for each of 108 candidates, totalling 216 fits\n"
     ]
    },
    {
     "name": "stderr",
     "output_type": "stream",
     "text": [
      "[Parallel(n_jobs=4)]: Done 216 out of 216 | elapsed:    1.0s finished\n",
      "[Parallel(n_jobs=4)]: Using backend LokyBackend with 4 concurrent workers.\n"
     ]
    },
    {
     "name": "stdout",
     "output_type": "stream",
     "text": [
      "MAE: 0.20096325532062215\n",
      "Tuned RF params: {'rf__max_depth': 8, 'rf__max_features': 'sqrt', 'rf__min_samples_leaf': 4, 'rf__n_estimators': 16}\n",
      "Tuned RF score:  -0.20096325532062215\n",
      "MAE: 0.20096325532062215\n",
      "R^2: 0.6170386128363334\n",
      "Best model important features: SKLEARN\n",
      "[0.26233767 0.26413925 0.42291189 0.05061119]\n",
      "Data:  df9\n",
      "Test size: 0.2\n",
      "Test,train shapes: (52, 4) (204, 4)\n",
      "Fitting 2 folds for each of 108 candidates, totalling 216 fits\n",
      "MAE: 0.13432027188543527\n",
      "Tuned RF params: {'rf__max_depth': 8, 'rf__max_features': 'auto', 'rf__min_samples_leaf': 2, 'rf__n_estimators': 4}\n",
      "Tuned RF score:  -0.13432027188543527\n",
      "MAE: 0.13432027188543527\n",
      "R^2: 0.813503214492775\n",
      "Best model important features: SKLEARN\n",
      "[0.74804391 0.00496667 0.22294496 0.02404447]\n"
     ]
    },
    {
     "name": "stderr",
     "output_type": "stream",
     "text": [
      "[Parallel(n_jobs=4)]: Done 216 out of 216 | elapsed:    0.9s finished\n"
     ]
    },
    {
     "data": {
      "image/png": "[encoded data removed]",
      "text/plain": [
       "<Figure size 864x504 with 1 Axes>"
      ]
     },
     "metadata": {
      "needs_background": "light"
     },
     "output_type": "display_data"
    },
    {
     "data": {
      "image/png": "[encoded data removed]",
      "text/plain": [
       "<Figure size 864x504 with 1 Axes>"
      ]
     },
     "metadata": {
      "needs_background": "light"
     },
     "output_type": "display_data"
    },
    {
     "data": {
      "image/png": "[encoded data removed]",
      "text/plain": [
       "<Figure size 864x504 with 1 Axes>"
      ]
     },
     "metadata": {
      "needs_background": "light"
     },
     "output_type": "display_data"
    },
    {
     "data": {
      "image/png": "[encoded data removed]",
      "text/plain": [
       "<Figure size 864x504 with 1 Axes>"
      ]
     },
     "metadata": {
      "needs_background": "light"
     },
     "output_type": "display_data"
    }
   ],
   "source": [
    "for key,data in df_list.items():\n",
    "    data_ss,_ = scale_df(data)\n",
    "    print('Data: ',key)\n",
    "    rf_gridcv(data_ss,name=key)#,fi_plts=True)"
   ]
  }
 ],
 "metadata": {
  "colab": {
   "collapsed_sections": [
    "sW-zMwjv5HYv"
   ],
   "name": "jan18th2019_rfandlasso.ipynb",
   "provenance": [],
   "version": "0.3.2"
  },
  "kernelspec": {
   "display_name": "Python 3",
   "language": "python",
   "name": "python3"
  },
  "language_info": {
   "codemirror_mode": {
    "name": "ipython",
    "version": 3
   },
   "file_extension": ".py",
   "mimetype": "text/x-python",
   "name": "python",
   "nbconvert_exporter": "python",
   "pygments_lexer": "ipython3",
   "version": "3.7.3"
  },
  "toc-autonumbering": true,
  "toc-showcode": true
 },
 "nbformat": 4,
 "nbformat_minor": 2
}
