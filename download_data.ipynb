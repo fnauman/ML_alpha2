{
 "cells": [
  {
   "cell_type": "markdown",
   "metadata": {},
   "source": [
    "## Download data"
   ]
  },
  {
   "cell_type": "code",
   "execution_count": null,
   "metadata": {},
   "outputs": [
    {
     "name": "stdout",
     "output_type": "stream",
     "text": [
      "--2019-05-16 19:58:00--  https://sid.erda.dk/public/archives/0cf0c2b6d34e20da8971304b06d8f913/pencil/alpha2/k10_R500_256_test_xyaver_alpha_eta/mfields.npz\n",
      "Resolving sid.erda.dk (sid.erda.dk)... ^C\n",
      "--2019-05-16 19:58:05--  https://sid.erda.dk/public/archives/0cf0c2b6d34e20da8971304b06d8f913/pencil/alpha2/k10_R1000_256_test_xyaver_alpha_eta/mfields.npz\n",
      "Resolving sid.erda.dk (sid.erda.dk)... 130.225.104.13\n",
      "Connecting to sid.erda.dk (sid.erda.dk)|130.225.104.13|:443... connected.\n",
      "HTTP request sent, awaiting response... 200 OK\n",
      "Length: 69848554 (67M)\n",
      "Saving to: ‘mfields_R1e3.npz’\n",
      "\n",
      "mfields_R1e3.npz    100%[===================>]  66.61M  2.41MB/s    in 31s     \n",
      "\n",
      "utime(mfields_R1e3.npz): No such file or directory\n",
      "2019-05-16 19:58:52 (2.12 MB/s) - ‘mfields_R1e3.npz’ saved [69848554/69848554]\n",
      "\n",
      "--2019-05-16 19:58:52--  https://sid.erda.dk/public/archives/0cf0c2b6d34e20da8971304b06d8f913/pencil/alpha2/k10_R2000_256_test_xyaver_alpha_eta/mfields.npz\n",
      "Resolving sid.erda.dk (sid.erda.dk)... 130.225.104.13\n",
      "Connecting to sid.erda.dk (sid.erda.dk)|130.225.104.13|:443... connected.\n",
      "HTTP request sent, awaiting response... 200 OK\n",
      "Length: 23241082 (22M)\n",
      "Saving to: ‘mfields_R1e3.npz’\n",
      "\n",
      "mfields_R1e3.npz    100%[===================>]  22.16M  2.52MB/s    in 9.7s    \n",
      "\n",
      "2019-05-16 19:59:17 (2.29 MB/s) - ‘mfields_R1e3.npz’ saved [23241082/23241082]\n",
      "\n",
      "--2019-05-16 19:59:17--  https://sid.erda.dk/public/archives/0cf0c2b6d34e20da8971304b06d8f913/pencil/alpha2/k10_R3000_256_test_xyaver_alpha_eta/mfields.npz\n",
      "Resolving sid.erda.dk (sid.erda.dk)... 130.225.104.13\n",
      "Connecting to sid.erda.dk (sid.erda.dk)|130.225.104.13|:443... connected.\n",
      "HTTP request sent, awaiting response... 200 OK\n",
      "Length: 23372186 (22M)\n",
      "Saving to: ‘mfields_R1e3.npz’\n",
      "\n",
      "mfields_R1e3.npz    100%[===================>]  22.29M  2.09MB/s    in 11s     \n",
      "\n",
      "2019-05-16 19:59:43 (2.07 MB/s) - ‘mfields_R1e3.npz’ saved [23372186/23372186]\n",
      "\n",
      "--2019-05-16 19:59:43--  https://sid.erda.dk/public/archives/0cf0c2b6d34e20da8971304b06d8f913/pencil/alpha2/k10_R4000_256_test_xyaver_alpha_eta/mfields.npz\n",
      "Resolving sid.erda.dk (sid.erda.dk)... 130.225.104.13\n",
      "Connecting to sid.erda.dk (sid.erda.dk)|130.225.104.13|:443... connected.\n",
      "HTTP request sent, awaiting response... 200 OK\n",
      "Length: 46741474 (45M)\n",
      "Saving to: ‘mfields_R1e3.npz’\n",
      "\n",
      "mfields_R1e3.npz     41%[=======>            ]  18.32M  2.00MB/s    eta 13s    "
     ]
    }
   ],
   "source": [
    "# Rm = 500\n",
    "!wget -O mfields_R5e2.npz https://sid.erda.dk/public/archives/0cf0c2b6d34e20da8971304b06d8f913/pencil/alpha2/k10_R500_256_test_xyaver_alpha_eta/mfields.npz\n",
    "\n",
    "# Rm = 1e3\n",
    "!wget -O mfields_R1e3.npz https://sid.erda.dk/public/archives/0cf0c2b6d34e20da8971304b06d8f913/pencil/alpha2/k10_R1000_256_test_xyaver_alpha_eta/mfields.npz\n",
    "\n",
    "# Rm = 2e3\n",
    "!wget -O mfields_R1e3.npz https://sid.erda.dk/public/archives/0cf0c2b6d34e20da8971304b06d8f913/pencil/alpha2/k10_R2000_256_test_xyaver_alpha_eta/mfields.npz\n",
    "\n",
    "# Rm = 3e3\n",
    "!wget -O mfields_R1e3.npz https://sid.erda.dk/public/archives/0cf0c2b6d34e20da8971304b06d8f913/pencil/alpha2/k10_R3000_256_test_xyaver_alpha_eta/mfields.npz\n",
    "\n",
    "# Rm = 4e3\n",
    "!wget -O mfields_R1e3.npz https://sid.erda.dk/public/archives/0cf0c2b6d34e20da8971304b06d8f913/pencil/alpha2/k10_R4000_256_test_xyaver_alpha_eta/mfields.npz\n",
    "    \n",
    "# Rm = 5e3\n",
    "!wget -O mfields_R5e3.npz https://sid.erda.dk/public/archives/0cf0c2b6d34e20da8971304b06d8f913/pencil/alpha2/k10_R5000_256_test_xyaver_alpha_eta/mfields.npz\n",
    "\n",
    "# Rm = 6e3\n",
    "!wget -O mfields_R5e3.npz https://sid.erda.dk/public/archives/0cf0c2b6d34e20da8971304b06d8f913/pencil/alpha2/k10_R6000_256_test_xyaver_alpha_eta/mfields.npz\n",
    "\n",
    "# Rm = 7e3\n",
    "!wget -O mfields_R5e3.npz https://sid.erda.dk/public/archives/0cf0c2b6d34e20da8971304b06d8f913/pencil/alpha2/k10_R7000_256_test_xyaver_alpha_eta/mfields.npz\n",
    "\n",
    "# Rm = 8e3\n",
    "!wget -O mfields_R5e3.npz https://sid.erda.dk/public/archives/0cf0c2b6d34e20da8971304b06d8f913/pencil/alpha2/k10_R8000_256_test_xyaver_alpha_eta/mfields.npz\n",
    "\n",
    "# Rm = 9e3\n",
    "!wget -O mfields_R5e3.npz https://sid.erda.dk/public/archives/0cf0c2b6d34e20da8971304b06d8f913/pencil/alpha2/k10_R9000_256_test_xyaver_alpha_eta/mfields.npz\n",
    "    \n",
    "# Rm = 10e3\n",
    "!wget -O mfields_R10e3.npz https://sid.erda.dk/public/archives/0cf0c2b6d34e20da8971304b06d8f913/pencil/alpha2/shock_k10_R10000_256_xyaver_alpha_eta/mfields.npz\n",
    "    \n",
    "# Rm = 15e3\n",
    "!wget -O mfields_R15e3.npz https://sid.erda.dk/public/archives/0cf0c2b6d34e20da8971304b06d8f913/pencil/alpha2/shock_k10_R15000_256_xyaver_alpha_eta/mfields.npz"
   ]
  },
  {
   "cell_type": "code",
   "execution_count": null,
   "metadata": {},
   "outputs": [],
   "source": []
  }
 ],
 "metadata": {
  "kernelspec": {
   "display_name": "Python 3",
   "language": "python",
   "name": "python3"
  },
  "language_info": {
   "codemirror_mode": {
    "name": "ipython",
    "version": 3
   },
   "file_extension": ".py",
   "mimetype": "text/x-python",
   "name": "python",
   "nbconvert_exporter": "python",
   "pygments_lexer": "ipython3",
   "version": "3.7.3"
  }
 },
 "nbformat": 4,
 "nbformat_minor": 2
}
