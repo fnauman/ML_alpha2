{
 "cells": [
  {
   "cell_type": "markdown",
   "metadata": {
    "colab_type": "text",
    "id": "BXS4JDLmybZw"
   },
   "source": [
    "## LASSO and Random Forest fits\n",
    "\n",
    "Linear basis: $B_x, B_y, J_x, J_y$"
   ]
  },
  {
   "cell_type": "markdown",
   "metadata": {
    "colab_type": "text",
    "id": "uDPZHGxgoos_",
    "toc-hr-collapsed": true
   },
   "source": [
    "# Load/import libraries"
   ]
  },
  {
   "cell_type": "code",
   "execution_count": 1,
   "metadata": {
    "colab": {},
    "colab_type": "code",
    "id": "QE2w5TS1f7JS"
   },
   "outputs": [],
   "source": [
    "import pandas as pd\n",
    "import seaborn as sns\n",
    "import matplotlib.pyplot as plt\n",
    "import numpy as np\n",
    "import os\n",
    "#from sklearn.metrics import mean_squared_error,mean_absolute_error\n",
    "\n",
    "%load_ext autoreload\n",
    "%autoreload 2\n",
    "%matplotlib inline"
   ]
  },
  {
   "cell_type": "code",
   "execution_count": 2,
   "metadata": {
    "colab": {},
    "colab_type": "code",
    "id": "dzyOFQwovOof"
   },
   "outputs": [],
   "source": [
    "from preprocess import *"
   ]
  },
  {
   "cell_type": "markdown",
   "metadata": {
    "colab_type": "text",
    "id": "PnX8Gw8Ambjs"
   },
   "source": [
    "## Download data for Rm = $1.5 \\times 10^4$"
   ]
  },
  {
   "cell_type": "code",
   "execution_count": 3,
   "metadata": {},
   "outputs": [
    {
     "name": "stdout",
     "output_type": "stream",
     "text": [
      "--2019-05-20 22:57:55--  https://sid.erda.dk/public/archives/0cf0c2b6d34e20da8971304b06d8f913/pencil/alpha2/shock_k10_R15000_256_xyaver_alpha_eta/mfields.npz\n",
      "Resolving sid.erda.dk (sid.erda.dk)... 130.225.104.13\n",
      "Connecting to sid.erda.dk (sid.erda.dk)|130.225.104.13|:443... connected.\n",
      "HTTP request sent, awaiting response... 200 OK\n",
      "Length: 65800718 (63M)\n",
      "Saving to: ‘mfields_R15e3.npz’\n",
      "\n",
      "mfields_R15e3.npz   100%[===================>]  62.75M  2.64MB/s    in 25s     \n",
      "\n",
      "2019-05-20 22:58:35 (2.54 MB/s) - ‘mfields_R15e3.npz’ saved [65800718/65800718]\n",
      "\n"
     ]
    }
   ],
   "source": [
    "# COMMENT out if data hasn't been downloaded yet\n",
    "#!wget -O mfields_R15e3.npz https://sid.erda.dk/public/archives/0cf0c2b6d34e20da8971304b06d8f913/pencil/alpha2/shock_k10_R15000_256_xyaver_alpha_eta/mfields.npz"
   ]
  },
  {
   "cell_type": "markdown",
   "metadata": {
    "colab_type": "text",
    "id": "8QbGs_qeozx6"
   },
   "source": [
    "## Pre-process\n",
    "\n",
    "Time averaged data stored in a pandas dataframe"
   ]
  },
  {
   "cell_type": "code",
   "execution_count": 4,
   "metadata": {
    "colab": {
     "base_uri": "https://localhost:8080/",
     "height": 647
    },
    "colab_type": "code",
    "id": "_GSEB7K6zps3",
    "outputId": "1e4165ee-f097-48f8-cffa-e39cb1306906"
   },
   "outputs": [],
   "source": [
    "df15 = gen_df_tave(fname='mfields_R15e3.npz',t1=1500,t2=-1,verbose=0)\n",
    "#df05 = gen_df_tave(fname=pth + 'mfields_R5e2.npz',t1=4000,t2=5000,verbose=0)"
   ]
  },
  {
   "cell_type": "code",
   "execution_count": 5,
   "metadata": {},
   "outputs": [
    {
     "data": {
      "text/html": [
       "<div>\n",
       "<style scoped>\n",
       "    .dataframe tbody tr th:only-of-type {\n",
       "        vertical-align: middle;\n",
       "    }\n",
       "\n",
       "    .dataframe tbody tr th {\n",
       "        vertical-align: top;\n",
       "    }\n",
       "\n",
       "    .dataframe thead th {\n",
       "        text-align: right;\n",
       "    }\n",
       "</style>\n",
       "<table border=\"1\" class=\"dataframe\">\n",
       "  <thead>\n",
       "    <tr style=\"text-align: right;\">\n",
       "      <th></th>\n",
       "      <th>Bx</th>\n",
       "      <th>By</th>\n",
       "      <th>Jx</th>\n",
       "      <th>Jy</th>\n",
       "      <th>Ex</th>\n",
       "      <th>Ey</th>\n",
       "    </tr>\n",
       "  </thead>\n",
       "  <tbody>\n",
       "    <tr>\n",
       "      <th>0</th>\n",
       "      <td>0.700520</td>\n",
       "      <td>0.705890</td>\n",
       "      <td>-0.602242</td>\n",
       "      <td>-0.644567</td>\n",
       "      <td>0.000467</td>\n",
       "      <td>0.000502</td>\n",
       "    </tr>\n",
       "    <tr>\n",
       "      <th>1</th>\n",
       "      <td>0.684174</td>\n",
       "      <td>0.720619</td>\n",
       "      <td>-0.598669</td>\n",
       "      <td>-0.688552</td>\n",
       "      <td>0.000453</td>\n",
       "      <td>0.000515</td>\n",
       "    </tr>\n",
       "    <tr>\n",
       "      <th>2</th>\n",
       "      <td>0.666762</td>\n",
       "      <td>0.735254</td>\n",
       "      <td>-0.594767</td>\n",
       "      <td>-0.729381</td>\n",
       "      <td>0.000439</td>\n",
       "      <td>0.000527</td>\n",
       "    </tr>\n",
       "    <tr>\n",
       "      <th>3</th>\n",
       "      <td>0.648423</td>\n",
       "      <td>0.749906</td>\n",
       "      <td>-0.600635</td>\n",
       "      <td>-0.764473</td>\n",
       "      <td>0.000425</td>\n",
       "      <td>0.000538</td>\n",
       "    </tr>\n",
       "    <tr>\n",
       "      <th>4</th>\n",
       "      <td>0.629228</td>\n",
       "      <td>0.764784</td>\n",
       "      <td>-0.610741</td>\n",
       "      <td>-0.799537</td>\n",
       "      <td>0.000411</td>\n",
       "      <td>0.000551</td>\n",
       "    </tr>\n",
       "  </tbody>\n",
       "</table>\n",
       "</div>"
      ],
      "text/plain": [
       "         Bx        By        Jx        Jy        Ex        Ey\n",
       "0  0.700520  0.705890 -0.602242 -0.644567  0.000467  0.000502\n",
       "1  0.684174  0.720619 -0.598669 -0.688552  0.000453  0.000515\n",
       "2  0.666762  0.735254 -0.594767 -0.729381  0.000439  0.000527\n",
       "3  0.648423  0.749906 -0.600635 -0.764473  0.000425  0.000538\n",
       "4  0.629228  0.764784 -0.610741 -0.799537  0.000411  0.000551"
      ]
     },
     "execution_count": 5,
     "metadata": {},
     "output_type": "execute_result"
    }
   ],
   "source": [
    "df15.head()"
   ]
  },
  {
   "cell_type": "markdown",
   "metadata": {},
   "source": [
    "# Linear Regression"
   ]
  },
  {
   "cell_type": "code",
   "execution_count": 6,
   "metadata": {},
   "outputs": [
    {
     "name": "stdout",
     "output_type": "stream",
     "text": [
      "Test size: 0.2\n",
      "[[ 0.83671663  0.01789618 -0.14541893  0.04021911]]\n"
     ]
    }
   ],
   "source": [
    "from sklearn.linear_model import LinearRegression\n",
    "from preprocess import train_test_seq\n",
    "\n",
    "lr = LinearRegression(fit_intercept=False)\n",
    "\n",
    "fld  = ['Ex']\n",
    "flds = ['Ex','Ey']\n",
    "tst_sz = 0.2\n",
    "\n",
    "df15_ss, scl = scale_df(df15)\n",
    "X_train_lr, X_test_lr, y_train_lr, y_test_lr = train_test_seq(df15_ss.drop(flds,axis=1),df15_ss[fld],test_size=tst_sz)\n",
    "lr.fit(X_train_lr,y_train_lr)\n",
    "y_pred_lr = lr.predict(X_test_lr)\n",
    "print(lr.coef_)"
   ]
  },
  {
   "cell_type": "markdown",
   "metadata": {
    "colab_type": "text",
    "id": "81XLXN75HtM4",
    "toc-hr-collapsed": false
   },
   "source": [
    "# Lasso"
   ]
  },
  {
   "cell_type": "code",
   "execution_count": 11,
   "metadata": {
    "colab": {},
    "colab_type": "code",
    "id": "QX4CVGMcHwkm"
   },
   "outputs": [],
   "source": [
    "from lasso_fits import *"
   ]
  },
  {
   "cell_type": "code",
   "execution_count": 12,
   "metadata": {
    "colab": {
     "base_uri": "https://localhost:8080/",
     "height": 1271
    },
    "colab_type": "code",
    "id": "Bvhdhqym5LRX",
    "outputId": "eb4d27c8-b499-4711-e77d-61e91fdbec65"
   },
   "outputs": [
    {
     "name": "stdout",
     "output_type": "stream",
     "text": [
      "Test size: 0.2\n",
      "Test,train shapes: (52, 4) (204, 4)\n",
      "Fitting 2 folds for each of 5 candidates, totalling 10 fits\n",
      "Means of CV folds: [-0.05288967 -0.05235723 -0.17375582 -0.75977684 -0.89966289]\n",
      "STDs of CV folds : [0.00576893 0.00092464 0.09400857 0.4356222  0.29573615]\n",
      "   mean_fit_time  std_fit_time  mean_score_time  std_score_time  \\\n",
      "0       0.002499      0.000068         0.001223        0.000161   \n",
      "1       0.003650      0.000751         0.001815        0.000049   \n",
      "2       0.003797      0.000437         0.001443        0.000348   \n",
      "3       0.003201      0.000634         0.001104        0.000020   \n",
      "4       0.002370      0.000109         0.001059        0.000034   \n",
      "\n",
      "  param_lasso__alpha                   params  split0_test_score  \\\n",
      "0              0.001  {'lasso__alpha': 0.001}          -0.047121   \n",
      "1               0.01   {'lasso__alpha': 0.01}          -0.053282   \n",
      "2                0.1    {'lasso__alpha': 0.1}          -0.267764   \n",
      "3                0.5    {'lasso__alpha': 0.5}          -1.195399   \n",
      "4                  1    {'lasso__alpha': 1.0}          -1.195399   \n",
      "\n",
      "   split1_test_score  mean_test_score  std_test_score  rank_test_score  \\\n",
      "0          -0.058659        -0.052890        0.005769                2   \n",
      "1          -0.051433        -0.052357        0.000925                1   \n",
      "2          -0.079747        -0.173756        0.094009                3   \n",
      "3          -0.324155        -0.759777        0.435622                4   \n",
      "4          -0.603927        -0.899663        0.295736                5   \n",
      "\n",
      "   split0_train_score  split1_train_score  mean_train_score  std_train_score  \n",
      "0           -0.015434           -0.026330         -0.020882         0.005448  \n",
      "1           -0.018914           -0.027649         -0.023282         0.004368  \n",
      "2           -0.140736           -0.103845         -0.122290         0.018445  \n",
      "3           -0.584188           -0.462319         -0.523254         0.060935  \n",
      "4           -0.584188           -0.889794         -0.736991         0.152803  \n"
     ]
    },
    {
     "name": "stderr",
     "output_type": "stream",
     "text": [
      "[Parallel(n_jobs=4)]: Using backend LokyBackend with 4 concurrent workers.\n",
      "[Parallel(n_jobs=4)]: Done   3 out of  10 | elapsed:    0.0s remaining:    0.0s\n",
      "[Parallel(n_jobs=4)]: Done  10 out of  10 | elapsed:    0.0s finished\n"
     ]
    },
    {
     "name": "stdout",
     "output_type": "stream",
     "text": [
      "Tuned Lasso Alpha: {'lasso__alpha': 0.01}\n",
      "Tuned Lasso Score: -0.08078461865843758\n",
      "BEST FIT model\n",
      "Mean Absolute Error: 0.08078461865843758\n",
      "LASSO score: 0.5747972811209139\n",
      "Coefficients: [ 0.82428209 -0.         -0.14618915  0.0146555 ]\n"
     ]
    },
    {
     "data": {
      "image/png": "[encoded data removed]",
      "text/plain": [
       "<Figure size 432x288 with 1 Axes>"
      ]
     },
     "metadata": {
      "needs_background": "light"
     },
     "output_type": "display_data"
    },
    {
     "data": {
      "image/png": "[encoded data removed]",
      "text/plain": [
       "<Figure size 864x504 with 1 Axes>"
      ]
     },
     "metadata": {
      "needs_background": "light"
     },
     "output_type": "display_data"
    }
   ],
   "source": [
    "df15_ss, scl = scale_df(df15)\n",
    "y_train,y_pred,y_test = lasso_gridcv(df15_ss)"
   ]
  },
  {
   "cell_type": "markdown",
   "metadata": {
    "colab_type": "text",
    "id": "s4ITlChKGEY3",
    "toc-hr-collapsed": false
   },
   "source": [
    "# Random forests"
   ]
  },
  {
   "cell_type": "code",
   "execution_count": 13,
   "metadata": {},
   "outputs": [],
   "source": [
    "from rf_fits import *"
   ]
  },
  {
   "cell_type": "code",
   "execution_count": 14,
   "metadata": {
    "colab": {
     "base_uri": "https://localhost:8080/",
     "height": 2286
    },
    "colab_type": "code",
    "id": "efc6pZKeHWsX",
    "outputId": "0165bb8f-3479-4b24-944f-4606e5167625"
   },
   "outputs": [
    {
     "name": "stdout",
     "output_type": "stream",
     "text": [
      "Test size: 0.2\n",
      "Test,train shapes: (52, 4) (204, 4)\n",
      "Fitting 2 folds for each of 108 candidates, totalling 216 fits\n"
     ]
    },
    {
     "name": "stderr",
     "output_type": "stream",
     "text": [
      "[Parallel(n_jobs=4)]: Using backend LokyBackend with 4 concurrent workers.\n",
      "[Parallel(n_jobs=4)]: Done 216 out of 216 | elapsed:    1.5s finished\n"
     ]
    },
    {
     "name": "stdout",
     "output_type": "stream",
     "text": [
      "Means of CV folds: [-0.2757629  -0.27597905 -0.27744725 -0.28108401 -0.2757629  -0.27597905\n",
      " -0.27744725 -0.28108401 -0.2757629  -0.27597905 -0.27744725 -0.28108401\n",
      " -0.36132524 -0.34985923 -0.34832559 -0.35940721 -0.36489766 -0.35305951\n",
      " -0.35152587 -0.36327113 -0.36681906 -0.35498091 -0.35344726 -0.3654327\n",
      " -0.2757629  -0.27597905 -0.27744725 -0.28108401 -0.2757629  -0.27597905\n",
      " -0.27744725 -0.28108401 -0.2757629  -0.27597905 -0.27744725 -0.28108401\n",
      " -0.14386544 -0.14074781 -0.14628522 -0.14897446 -0.14449562 -0.14138609\n",
      " -0.14660436 -0.14915768 -0.17924119 -0.17613969 -0.18142339 -0.18289937\n",
      " -0.26042293 -0.25331136 -0.25050166 -0.26065136 -0.26047873 -0.25566738\n",
      " -0.25372024 -0.2638704  -0.30681936 -0.29773853 -0.28510319 -0.29116541\n",
      " -0.14386544 -0.14074781 -0.14628522 -0.14897446 -0.14449562 -0.14138609\n",
      " -0.14660436 -0.14915768 -0.17924119 -0.17613969 -0.18142339 -0.18289937\n",
      " -0.14497664 -0.14479156 -0.13920734 -0.14233676 -0.19307227 -0.18817832\n",
      " -0.16307716 -0.15991005 -0.18918426 -0.18607399 -0.20099364 -0.20682917\n",
      " -0.22381716 -0.22906982 -0.23678962 -0.24998901 -0.27426811 -0.25413971\n",
      " -0.25169724 -0.26520186 -0.30985089 -0.30016564 -0.28830726 -0.2945911\n",
      " -0.14497664 -0.14479156 -0.13920734 -0.14233676 -0.19307227 -0.18817832\n",
      " -0.16307716 -0.15991005 -0.18918426 -0.18607399 -0.20099364 -0.20682917]\n",
      "STDs of CV folds : [0.00790206 0.00768591 0.00621771 0.00258094 0.00790206 0.00768591\n",
      " 0.00621771 0.00258094 0.00790206 0.00768591 0.00621771 0.00258094\n",
      " 0.11127716 0.09906687 0.09753322 0.113144   0.10770474 0.09586659\n",
      " 0.09433294 0.10928009 0.10578334 0.09394519 0.09241155 0.10711852\n",
      " 0.00790206 0.00768591 0.00621771 0.00258094 0.00790206 0.00768591\n",
      " 0.00621771 0.00258094 0.00790206 0.00768591 0.00621771 0.00258094\n",
      " 0.00658946 0.01203986 0.01424731 0.00954262 0.00721964 0.01267814\n",
      " 0.01456645 0.00972584 0.0192203  0.01788598 0.01770348 0.01667108\n",
      " 0.10178547 0.08967018 0.08830895 0.10017072 0.10172967 0.0875778\n",
      " 0.08923743 0.09792593 0.10281248 0.09062657 0.08020915 0.09012492\n",
      " 0.00658946 0.01203986 0.01424731 0.00954262 0.00721964 0.01267814\n",
      " 0.01456645 0.00972584 0.0192203  0.01788598 0.01770348 0.01667108\n",
      " 0.00703769 0.0056869  0.00205036 0.00026952 0.04135701 0.0341141\n",
      " 0.00190636 0.00102653 0.00927723 0.00795168 0.00186677 0.00725872\n",
      " 0.06833005 0.0728016  0.0819927  0.09644584 0.11551905 0.08605013\n",
      " 0.08721443 0.09925739 0.10584402 0.09305368 0.08341321 0.09355061\n",
      " 0.00703769 0.0056869  0.00205036 0.00026952 0.04135701 0.0341141\n",
      " 0.00190636 0.00102653 0.00927723 0.00795168 0.00186677 0.00725872]\n",
      "   mean_fit_time  std_fit_time  mean_score_time  std_score_time  \\\n",
      "0       0.008282      0.001071         0.002022        0.000442   \n",
      "1       0.013771      0.001514         0.002375        0.000532   \n",
      "2       0.018650      0.003762         0.002239        0.000037   \n",
      "3       0.039724      0.002780         0.003060        0.000040   \n",
      "4       0.008024      0.000828         0.001567        0.000018   \n",
      "\n",
      "  param_rf__max_depth param_rf__max_features param_rf__min_samples_leaf  \\\n",
      "0                   2                   auto                          2   \n",
      "1                   2                   auto                          2   \n",
      "2                   2                   auto                          2   \n",
      "3                   2                   auto                          2   \n",
      "4                   2                   auto                          4   \n",
      "\n",
      "  param_rf__n_estimators                                             params  \\\n",
      "0                      4  {'rf__max_depth': 2, 'rf__max_features': 'auto...   \n",
      "1                      8  {'rf__max_depth': 2, 'rf__max_features': 'auto...   \n",
      "2                     16  {'rf__max_depth': 2, 'rf__max_features': 'auto...   \n",
      "3                     32  {'rf__max_depth': 2, 'rf__max_features': 'auto...   \n",
      "4                      4  {'rf__max_depth': 2, 'rf__max_features': 'auto...   \n",
      "\n",
      "   split0_test_score  split1_test_score  mean_test_score  std_test_score  \\\n",
      "0          -0.283665          -0.267861        -0.275763        0.007902   \n",
      "1          -0.283665          -0.268293        -0.275979        0.007686   \n",
      "2          -0.283665          -0.271230        -0.277447        0.006218   \n",
      "3          -0.283665          -0.278503        -0.281084        0.002581   \n",
      "4          -0.283665          -0.267861        -0.275763        0.007902   \n",
      "\n",
      "   rank_test_score  split0_train_score  split1_train_score  mean_train_score  \\\n",
      "0               65            -0.13176           -0.115252         -0.123506   \n",
      "1               71            -0.13176           -0.115252         -0.123506   \n",
      "2               77            -0.13176           -0.115252         -0.123506   \n",
      "3               83            -0.13176           -0.115252         -0.123506   \n",
      "4               65            -0.13176           -0.115252         -0.123506   \n",
      "\n",
      "   std_train_score  \n",
      "0         0.008254  \n",
      "1         0.008254  \n",
      "2         0.008254  \n",
      "3         0.008254  \n",
      "4         0.008254  \n",
      "MAE: 0.08652315676576156\n",
      "Tuned RF params: {'rf__max_depth': 8, 'rf__max_features': 'auto', 'rf__min_samples_leaf': 2, 'rf__n_estimators': 16}\n",
      "Tuned RF score:  -0.08652315676576156\n",
      "MAE: 0.08652315676576156\n",
      "R^2: 0.46345245436874194\n",
      "Best model important features: SKLEARN\n",
      "[0.77801629 0.00448691 0.21156309 0.00593372]\n"
     ]
    },
    {
     "data": {
      "text/plain": [
       "<Figure size 432x288 with 0 Axes>"
      ]
     },
     "metadata": {},
     "output_type": "display_data"
    },
    {
     "data": {
      "image/png": "[encoded data removed]",
      "text/plain": [
       "<Figure size 432x288 with 1 Axes>"
      ]
     },
     "metadata": {
      "needs_background": "light"
     },
     "output_type": "display_data"
    },
    {
     "data": {
      "image/png": "[encoded data removed]",
      "text/plain": [
       "<Figure size 432x288 with 1 Axes>"
      ]
     },
     "metadata": {
      "needs_background": "light"
     },
     "output_type": "display_data"
    },
    {
     "data": {
      "image/png": "[encoded data removed]",
      "text/plain": [
       "<Figure size 864x504 with 1 Axes>"
      ]
     },
     "metadata": {
      "needs_background": "light"
     },
     "output_type": "display_data"
    }
   ],
   "source": [
    "df15_ss, _ = scale_df(df15)\n",
    "y_trainrf,y_predrf,y_testrf = rf_gridcv(df15_ss)#, fi_plts=True)"
   ]
  },
  {
   "cell_type": "markdown",
   "metadata": {},
   "source": [
    "## Comparison: RF vs LASSO"
   ]
  },
  {
   "cell_type": "code",
   "execution_count": null,
   "metadata": {},
   "outputs": [],
   "source": [
    "z_ax = np.linspace(0,2*np.pi,256)\n",
    "\n",
    "fig,ax=plt.subplots()\n",
    "        \n",
    "fld_label = r\"$\\mathcal{E}_x$\" #if fld=='Ex' else r\"$\\mathcal{E}_y$\"\n",
    "        \n",
    "ax.plot(np.linspace(0,2*np.pi,256),df15_ss['Ex'],label=fld_label)\n",
    "ax.plot(z_ax[y_train.shape[0]:],y_pred,'r--',lw=2,label=\"LASSO fit\")\n",
    "ax.plot(z_ax[y_train.shape[0]:],y_predrf,'g-.',lw=3,label=\"RF fit\")\n",
    "\n",
    "plt.axvline(x=0.8*z_ax[-1], color='k', linestyle='--')\n",
    "\n",
    "ax.set_ylim([-1.5,1.5])\n",
    "    \n",
    "ax.legend()\n",
    "ax.set_xlabel('z',fontsize=14)\n",
    "    \n",
    "fig.savefig('df15_SPACE_comparison.pdf',bbox_inches='tight')"
   ]
  }
 ],
 "metadata": {
  "colab": {
   "collapsed_sections": [
    "sW-zMwjv5HYv"
   ],
   "name": "jan18th2019_rfandlasso.ipynb",
   "provenance": [],
   "version": "0.3.2"
  },
  "kernelspec": {
   "display_name": "Python 3",
   "language": "python",
   "name": "python3"
  },
  "language_info": {
   "codemirror_mode": {
    "name": "ipython",
    "version": 3
   },
   "file_extension": ".py",
   "mimetype": "text/x-python",
   "name": "python",
   "nbconvert_exporter": "python",
   "pygments_lexer": "ipython3",
   "version": "3.7.3"
  },
  "toc-autonumbering": true,
  "toc-showcode": true
 },
 "nbformat": 4,
 "nbformat_minor": 2
}
