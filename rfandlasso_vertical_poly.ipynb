{
 "cells": [
  {
   "cell_type": "markdown",
   "metadata": {
    "colab_type": "text",
    "id": "BXS4JDLmybZw"
   },
   "source": [
    "## LASSO and Random Forest fits\n",
    "\n",
    "for polynomial basis\n",
    "\n",
    "$B_x, B_y, B^2, B_x B_y, B^2 B_x, B^2 B_y$"
   ]
  },
  {
   "cell_type": "markdown",
   "metadata": {
    "colab_type": "text",
    "id": "uDPZHGxgoos_",
    "toc-hr-collapsed": true
   },
   "source": [
    "# Load/import libraries"
   ]
  },
  {
   "cell_type": "code",
   "execution_count": 1,
   "metadata": {
    "colab": {},
    "colab_type": "code",
    "id": "QE2w5TS1f7JS"
   },
   "outputs": [],
   "source": [
    "import pandas as pd\n",
    "import seaborn as sns\n",
    "import matplotlib.pyplot as plt\n",
    "import numpy as np\n",
    "import os\n",
    "#from sklearn.metrics import mean_squared_error,mean_absolute_error\n",
    "\n",
    "%load_ext autoreload\n",
    "%autoreload 2\n",
    "%matplotlib inline"
   ]
  },
  {
   "cell_type": "code",
   "execution_count": 2,
   "metadata": {
    "colab": {},
    "colab_type": "code",
    "id": "dzyOFQwovOof"
   },
   "outputs": [],
   "source": [
    "from preprocess import *"
   ]
  },
  {
   "cell_type": "markdown",
   "metadata": {
    "colab_type": "text",
    "id": "PnX8Gw8Ambjs"
   },
   "source": [
    "## Download data for Rm = $1.5 \\times 10^4$"
   ]
  },
  {
   "cell_type": "code",
   "execution_count": null,
   "metadata": {},
   "outputs": [],
   "source": [
    "!wget -O mfields_R15e3.npz https://sid.erda.dk/public/archives/0cf0c2b6d34e20da8971304b06d8f913/pencil/alpha2/shock_k10_R15000_256_xyaver_alpha_eta/mfields.npz"
   ]
  },
  {
   "cell_type": "markdown",
   "metadata": {
    "colab_type": "text",
    "id": "8QbGs_qeozx6"
   },
   "source": [
    "## Pre-process\n",
    "\n",
    "Time averaged data stored in a pandas dataframe"
   ]
  },
  {
   "cell_type": "code",
   "execution_count": 3,
   "metadata": {
    "colab": {
     "base_uri": "https://localhost:8080/",
     "height": 647
    },
    "colab_type": "code",
    "id": "_GSEB7K6zps3",
    "outputId": "1e4165ee-f097-48f8-cffa-e39cb1306906"
   },
   "outputs": [],
   "source": [
    "df15 = gen_df_tave(fname='mfields_R15e3.npz',t1=1500,t2=-1,verbose=0)\n",
    "#df05 = gen_df_tave(fname=pth + 'mfields_R5e2.npz',t1=4000,t2=5000,verbose=0)"
   ]
  },
  {
   "cell_type": "code",
   "execution_count": 4,
   "metadata": {},
   "outputs": [
    {
     "data": {
      "text/html": [
       "<div>\n",
       "<style scoped>\n",
       "    .dataframe tbody tr th:only-of-type {\n",
       "        vertical-align: middle;\n",
       "    }\n",
       "\n",
       "    .dataframe tbody tr th {\n",
       "        vertical-align: top;\n",
       "    }\n",
       "\n",
       "    .dataframe thead th {\n",
       "        text-align: right;\n",
       "    }\n",
       "</style>\n",
       "<table border=\"1\" class=\"dataframe\">\n",
       "  <thead>\n",
       "    <tr style=\"text-align: right;\">\n",
       "      <th></th>\n",
       "      <th>Bx</th>\n",
       "      <th>By</th>\n",
       "      <th>Jx</th>\n",
       "      <th>Jy</th>\n",
       "      <th>Ex</th>\n",
       "      <th>Ey</th>\n",
       "    </tr>\n",
       "  </thead>\n",
       "  <tbody>\n",
       "    <tr>\n",
       "      <th>0</th>\n",
       "      <td>0.700520</td>\n",
       "      <td>0.705890</td>\n",
       "      <td>-0.602242</td>\n",
       "      <td>-0.644567</td>\n",
       "      <td>0.000467</td>\n",
       "      <td>0.000502</td>\n",
       "    </tr>\n",
       "    <tr>\n",
       "      <th>1</th>\n",
       "      <td>0.684174</td>\n",
       "      <td>0.720619</td>\n",
       "      <td>-0.598669</td>\n",
       "      <td>-0.688552</td>\n",
       "      <td>0.000453</td>\n",
       "      <td>0.000515</td>\n",
       "    </tr>\n",
       "    <tr>\n",
       "      <th>2</th>\n",
       "      <td>0.666762</td>\n",
       "      <td>0.735254</td>\n",
       "      <td>-0.594767</td>\n",
       "      <td>-0.729381</td>\n",
       "      <td>0.000439</td>\n",
       "      <td>0.000527</td>\n",
       "    </tr>\n",
       "    <tr>\n",
       "      <th>3</th>\n",
       "      <td>0.648423</td>\n",
       "      <td>0.749906</td>\n",
       "      <td>-0.600635</td>\n",
       "      <td>-0.764473</td>\n",
       "      <td>0.000425</td>\n",
       "      <td>0.000538</td>\n",
       "    </tr>\n",
       "    <tr>\n",
       "      <th>4</th>\n",
       "      <td>0.629228</td>\n",
       "      <td>0.764784</td>\n",
       "      <td>-0.610741</td>\n",
       "      <td>-0.799537</td>\n",
       "      <td>0.000411</td>\n",
       "      <td>0.000551</td>\n",
       "    </tr>\n",
       "  </tbody>\n",
       "</table>\n",
       "</div>"
      ],
      "text/plain": [
       "         Bx        By        Jx        Jy        Ex        Ey\n",
       "0  0.700520  0.705890 -0.602242 -0.644567  0.000467  0.000502\n",
       "1  0.684174  0.720619 -0.598669 -0.688552  0.000453  0.000515\n",
       "2  0.666762  0.735254 -0.594767 -0.729381  0.000439  0.000527\n",
       "3  0.648423  0.749906 -0.600635 -0.764473  0.000425  0.000538\n",
       "4  0.629228  0.764784 -0.610741 -0.799537  0.000411  0.000551"
      ]
     },
     "execution_count": 4,
     "metadata": {},
     "output_type": "execute_result"
    }
   ],
   "source": [
    "df15.head()"
   ]
  },
  {
   "cell_type": "markdown",
   "metadata": {},
   "source": [
    "### Generate polynomial basis"
   ]
  },
  {
   "cell_type": "code",
   "execution_count": 17,
   "metadata": {},
   "outputs": [
    {
     "name": "stdout",
     "output_type": "stream",
     "text": [
      "Feature names: ['Bx', 'By', 'Bx By', 'Ex', 'Ey', 'B^2', 'B^2 Bx', 'B^2 By']\n",
      "Feature array shape: (256, 8)\n"
     ]
    },
    {
     "data": {
      "text/html": [
       "<div>\n",
       "<style scoped>\n",
       "    .dataframe tbody tr th:only-of-type {\n",
       "        vertical-align: middle;\n",
       "    }\n",
       "\n",
       "    .dataframe tbody tr th {\n",
       "        vertical-align: top;\n",
       "    }\n",
       "\n",
       "    .dataframe thead th {\n",
       "        text-align: right;\n",
       "    }\n",
       "</style>\n",
       "<table border=\"1\" class=\"dataframe\">\n",
       "  <thead>\n",
       "    <tr style=\"text-align: right;\">\n",
       "      <th></th>\n",
       "      <th>Ex</th>\n",
       "      <th>Ey</th>\n",
       "      <th>B^2</th>\n",
       "      <th>B^2 Bx</th>\n",
       "      <th>B^2 By</th>\n",
       "      <th>Bx</th>\n",
       "      <th>By</th>\n",
       "      <th>Bx By</th>\n",
       "    </tr>\n",
       "  </thead>\n",
       "  <tbody>\n",
       "    <tr>\n",
       "      <th>0</th>\n",
       "      <td>0.941561</td>\n",
       "      <td>1.064997</td>\n",
       "      <td>0.419213</td>\n",
       "      <td>1.021195</td>\n",
       "      <td>1.003289</td>\n",
       "      <td>0.996046</td>\n",
       "      <td>1.018508</td>\n",
       "      <td>1.445872</td>\n",
       "    </tr>\n",
       "    <tr>\n",
       "      <th>1</th>\n",
       "      <td>0.914499</td>\n",
       "      <td>1.092287</td>\n",
       "      <td>0.370750</td>\n",
       "      <td>0.995885</td>\n",
       "      <td>1.022960</td>\n",
       "      <td>0.972804</td>\n",
       "      <td>1.039760</td>\n",
       "      <td>1.441586</td>\n",
       "    </tr>\n",
       "    <tr>\n",
       "      <th>2</th>\n",
       "      <td>0.886233</td>\n",
       "      <td>1.118527</td>\n",
       "      <td>0.304606</td>\n",
       "      <td>0.968535</td>\n",
       "      <td>1.041787</td>\n",
       "      <td>0.948046</td>\n",
       "      <td>1.060878</td>\n",
       "      <td>1.433406</td>\n",
       "    </tr>\n",
       "    <tr>\n",
       "      <th>3</th>\n",
       "      <td>0.858595</td>\n",
       "      <td>1.143628</td>\n",
       "      <td>0.234177</td>\n",
       "      <td>0.939827</td>\n",
       "      <td>1.060384</td>\n",
       "      <td>0.921970</td>\n",
       "      <td>1.082018</td>\n",
       "      <td>1.421723</td>\n",
       "    </tr>\n",
       "    <tr>\n",
       "      <th>4</th>\n",
       "      <td>0.830579</td>\n",
       "      <td>1.169738</td>\n",
       "      <td>0.174791</td>\n",
       "      <td>0.910358</td>\n",
       "      <td>1.079619</td>\n",
       "      <td>0.894679</td>\n",
       "      <td>1.103484</td>\n",
       "      <td>1.406963</td>\n",
       "    </tr>\n",
       "  </tbody>\n",
       "</table>\n",
       "</div>"
      ],
      "text/plain": [
       "         Ex        Ey       B^2    B^2 Bx    B^2 By        Bx        By  \\\n",
       "0  0.941561  1.064997  0.419213  1.021195  1.003289  0.996046  1.018508   \n",
       "1  0.914499  1.092287  0.370750  0.995885  1.022960  0.972804  1.039760   \n",
       "2  0.886233  1.118527  0.304606  0.968535  1.041787  0.948046  1.060878   \n",
       "3  0.858595  1.143628  0.234177  0.939827  1.060384  0.921970  1.082018   \n",
       "4  0.830579  1.169738  0.174791  0.910358  1.079619  0.894679  1.103484   \n",
       "\n",
       "      Bx By  \n",
       "0  1.445872  \n",
       "1  1.441586  \n",
       "2  1.433406  \n",
       "3  1.421723  \n",
       "4  1.406963  "
      ]
     },
     "execution_count": 17,
     "metadata": {},
     "output_type": "execute_result"
    }
   ],
   "source": [
    "df15_poly = gen_df_poly(df15)\n",
    "df15_ss, scl = scale_df(df15_poly)\n",
    "df15_ss.head()"
   ]
  },
  {
   "cell_type": "markdown",
   "metadata": {},
   "source": [
    "# Linear Regression"
   ]
  },
  {
   "cell_type": "code",
   "execution_count": 6,
   "metadata": {},
   "outputs": [
    {
     "name": "stdout",
     "output_type": "stream",
     "text": [
      "Test size: 0.2\n"
     ]
    },
    {
     "data": {
      "text/plain": [
       "array([[-0.03765302, -1.72005983, -0.25122688,  2.70080227,  0.23687589,\n",
       "         0.01737001]])"
      ]
     },
     "execution_count": 6,
     "metadata": {},
     "output_type": "execute_result"
    }
   ],
   "source": [
    "from sklearn.linear_model import LinearRegression\n",
    "from preprocess import train_test_seq\n",
    "\n",
    "lr = LinearRegression(fit_intercept=False)\n",
    "\n",
    "fld  = ['Ex']\n",
    "flds = ['Ex','Ey']\n",
    "tst_sz = 0.2\n",
    "\n",
    "X_train_lr, X_test_lr, y_train_lr, y_test_lr = train_test_seq(df15_ss.drop(flds,axis=1),df15_ss[fld],test_size=tst_sz)\n",
    "lr.fit(X_train_lr,y_train_lr)\n",
    "y_pred_lr = lr.predict(X_test_lr)\n",
    "lr.coef_"
   ]
  },
  {
   "cell_type": "code",
   "execution_count": 11,
   "metadata": {},
   "outputs": [
    {
     "data": {
      "text/plain": [
       "Index(['B^2', 'B^2 Bx', 'B^2 By', 'Bx', 'By', 'Bx By'], dtype='object')"
      ]
     },
     "execution_count": 11,
     "metadata": {},
     "output_type": "execute_result"
    }
   ],
   "source": [
    "# Find out how the coefficients are ordered\n",
    "df15_ss.drop(flds,axis=1).columns"
   ]
  },
  {
   "cell_type": "markdown",
   "metadata": {
    "colab_type": "text",
    "id": "81XLXN75HtM4",
    "toc-hr-collapsed": false
   },
   "source": [
    "# Lasso"
   ]
  },
  {
   "cell_type": "code",
   "execution_count": 12,
   "metadata": {
    "colab": {},
    "colab_type": "code",
    "id": "QX4CVGMcHwkm"
   },
   "outputs": [],
   "source": [
    "from lasso_fits import *"
   ]
  },
  {
   "cell_type": "markdown",
   "metadata": {
    "colab_type": "text",
    "id": "Ao0chMg05JRX"
   },
   "source": [
    "## Polynomial basis"
   ]
  },
  {
   "cell_type": "code",
   "execution_count": 13,
   "metadata": {
    "colab": {
     "base_uri": "https://localhost:8080/",
     "height": 1271
    },
    "colab_type": "code",
    "id": "Bvhdhqym5LRX",
    "outputId": "eb4d27c8-b499-4711-e77d-61e91fdbec65"
   },
   "outputs": [
    {
     "name": "stdout",
     "output_type": "stream",
     "text": [
      "Test size: 0.2\n",
      "Test,train shapes: (52, 6) (204, 6)\n",
      "Fitting 2 folds for each of 5 candidates, totalling 10 fits\n"
     ]
    },
    {
     "name": "stderr",
     "output_type": "stream",
     "text": [
      "[Parallel(n_jobs=4)]: Using backend LokyBackend with 4 concurrent workers.\n",
      "[Parallel(n_jobs=4)]: Done  10 out of  10 | elapsed:    1.2s finished\n",
      "/home/fnauman/anaconda3/envs/plotly/lib/python3.7/site-packages/sklearn/linear_model/coordinate_descent.py:475: ConvergenceWarning: Objective did not converge. You might want to increase the number of iterations. Duality gap: 0.023950232811909722, tolerance: 0.01638960849288989\n",
      "  positive)\n"
     ]
    },
    {
     "name": "stdout",
     "output_type": "stream",
     "text": [
      "Means of CV folds: [-0.25634852 -0.66159821 -0.72946833 -0.79179278 -0.89966289]\n",
      "STDs of CV folds : [0.16002384 0.60651159 0.63689181 0.46256559 0.29573615]\n",
      "   mean_fit_time  std_fit_time  mean_score_time  std_score_time  \\\n",
      "0       0.022597      0.018956         0.001044        0.000150   \n",
      "1       0.003197      0.000085         0.001063        0.000019   \n",
      "2       0.002876      0.000292         0.000979        0.000070   \n",
      "3       0.002092      0.000030         0.000979        0.000023   \n",
      "4       0.002072      0.000021         0.000921        0.000025   \n",
      "\n",
      "  param_lasso__alpha                   params  split0_test_score  \\\n",
      "0              0.001  {'lasso__alpha': 0.001}          -0.416372   \n",
      "1               0.01   {'lasso__alpha': 0.01}          -1.268110   \n",
      "2                0.1    {'lasso__alpha': 0.1}          -1.366360   \n",
      "3                0.5    {'lasso__alpha': 0.5}          -1.254358   \n",
      "4                  1    {'lasso__alpha': 1.0}          -1.195399   \n",
      "\n",
      "   split1_test_score  mean_test_score  std_test_score  rank_test_score  \\\n",
      "0          -0.096325        -0.256349        0.160024                1   \n",
      "1          -0.055087        -0.661598        0.606512                2   \n",
      "2          -0.092577        -0.729468        0.636892                3   \n",
      "3          -0.329227        -0.791793        0.462566                4   \n",
      "4          -0.603927        -0.899663        0.295736                5   \n",
      "\n",
      "   split0_train_score  split1_train_score  mean_train_score  std_train_score  \n",
      "0           -0.021915           -0.026083         -0.023999         0.002084  \n",
      "1           -0.041321           -0.029492         -0.035406         0.005914  \n",
      "2           -0.084812           -0.103670         -0.094241         0.009429  \n",
      "3           -0.405050           -0.460122         -0.432586         0.027536  \n",
      "4           -0.584188           -0.889794         -0.736991         0.152803  \n",
      "Tuned Lasso Alpha: {'lasso__alpha': 0.001}\n",
      "Tuned Lasso Score: -0.06647430683653115\n",
      "BEST FIT model\n",
      "Mean Absolute Error: 0.06647430683653115\n",
      "LASSO score: 0.6815306637895967\n",
      "Coefficients: [-0.00374018  0.20074131 -0.01871417  0.77905153 -0.         -0.01129549]\n"
     ]
    },
    {
     "name": "stderr",
     "output_type": "stream",
     "text": [
      "/home/fnauman/anaconda3/envs/plotly/lib/python3.7/site-packages/sklearn/linear_model/coordinate_descent.py:475: ConvergenceWarning: Objective did not converge. You might want to increase the number of iterations. Duality gap: 0.023950232811909722, tolerance: 0.01638960849288989\n",
      "  positive)\n"
     ]
    },
    {
     "data": {
      "image/png": "[encoded data removed]",
      "text/plain": [
       "<Figure size 432x288 with 1 Axes>"
      ]
     },
     "metadata": {
      "needs_background": "light"
     },
     "output_type": "display_data"
    },
    {
     "data": {
      "image/png": "[encoded data removed]",
      "text/plain": [
       "<Figure size 864x504 with 1 Axes>"
      ]
     },
     "metadata": {
      "needs_background": "light"
     },
     "output_type": "display_data"
    }
   ],
   "source": [
    "y_train,y_pred,y_test = lasso_gridcv(df15_ss)"
   ]
  },
  {
   "cell_type": "markdown",
   "metadata": {
    "colab_type": "text",
    "id": "s4ITlChKGEY3",
    "toc-hr-collapsed": false
   },
   "source": [
    "# Random forests"
   ]
  },
  {
   "cell_type": "code",
   "execution_count": 14,
   "metadata": {},
   "outputs": [],
   "source": [
    "from rf_fits import *"
   ]
  },
  {
   "cell_type": "markdown",
   "metadata": {
    "colab_type": "text",
    "id": "ByFBue_GQvpO"
   },
   "source": [
    "## Polynomial basis"
   ]
  },
  {
   "cell_type": "code",
   "execution_count": 15,
   "metadata": {
    "colab": {
     "base_uri": "https://localhost:8080/",
     "height": 2286
    },
    "colab_type": "code",
    "id": "efc6pZKeHWsX",
    "outputId": "0165bb8f-3479-4b24-944f-4606e5167625"
   },
   "outputs": [
    {
     "name": "stdout",
     "output_type": "stream",
     "text": [
      "Test size: 0.2\n",
      "Test,train shapes: (52, 6) (204, 6)\n",
      "Fitting 2 folds for each of 108 candidates, totalling 216 fits\n"
     ]
    },
    {
     "name": "stderr",
     "output_type": "stream",
     "text": [
      "[Parallel(n_jobs=4)]: Using backend LokyBackend with 4 concurrent workers.\n",
      "[Parallel(n_jobs=4)]: Done 216 out of 216 | elapsed:    1.6s finished\n"
     ]
    },
    {
     "name": "stdout",
     "output_type": "stream",
     "text": [
      "Means of CV folds: [-0.60503767 -0.55430146 -0.51295055 -0.47670458 -0.60503767 -0.55430146\n",
      " -0.51295055 -0.47670458 -0.60503767 -0.55430146 -0.51295055 -0.47670458\n",
      " -0.8100654  -0.7787325  -0.79260837 -0.63599411 -0.8100654  -0.78010976\n",
      " -0.79359844 -0.63683346 -0.8100654  -0.7834072  -0.79667333 -0.63906597\n",
      " -0.60503767 -0.55430146 -0.51295055 -0.47670458 -0.60503767 -0.55430146\n",
      " -0.51295055 -0.47670458 -0.60503767 -0.55430146 -0.51295055 -0.47670458\n",
      " -0.52963479 -0.47900649 -0.41923    -0.37879163 -0.4092854  -0.41516275\n",
      " -0.39126886 -0.36941743 -0.53644277 -0.48191415 -0.42774743 -0.39797061\n",
      " -0.54662896 -0.58039696 -0.62865211 -0.55589805 -0.55175669 -0.58863083\n",
      " -0.64097492 -0.56090157 -0.64965823 -0.65206733 -0.69771532 -0.61413344\n",
      " -0.52963479 -0.47900649 -0.41923    -0.37879163 -0.4092854  -0.41516275\n",
      " -0.39126886 -0.36941743 -0.53644277 -0.48191415 -0.42774743 -0.39797061\n",
      " -0.35088052 -0.34622565 -0.3598842  -0.34501613 -0.37768149 -0.38122616\n",
      " -0.36163671 -0.34059363 -0.54923807 -0.51327744 -0.44197128 -0.39494248\n",
      " -0.62529236 -0.63254    -0.67640812 -0.54386466 -0.54251479 -0.57013941\n",
      " -0.64645077 -0.52693256 -0.68231566 -0.70408514 -0.7136034  -0.58501736\n",
      " -0.35088052 -0.34622565 -0.3598842  -0.34501613 -0.37768149 -0.38122616\n",
      " -0.36163671 -0.34059363 -0.54923807 -0.51327744 -0.44197128 -0.39494248]\n",
      "STDs of CV folds : [0.18974744 0.19984645 0.14039224 0.10996915 0.18974744 0.19984645\n",
      " 0.14039224 0.10996915 0.18974744 0.19984645 0.14039224 0.10996915\n",
      " 0.00474651 0.04243134 0.01921156 0.0168556  0.00474651 0.04105408\n",
      " 0.01822149 0.01769495 0.00474651 0.03867089 0.01561574 0.01972293\n",
      " 0.18974744 0.19984645 0.14039224 0.10996915 0.18974744 0.19984645\n",
      " 0.14039224 0.10996915 0.18974744 0.19984645 0.14039224 0.10996915\n",
      " 0.20251835 0.19168249 0.15318446 0.09132036 0.08216896 0.12783875\n",
      " 0.12522332 0.08194616 0.20444559 0.19325636 0.15853576 0.10142487\n",
      " 0.0696153  0.0415497  0.01315868 0.00803166 0.07833514 0.04738405\n",
      " 0.02269729 0.00540323 0.02675722 0.01168985 0.03723107 0.00326864\n",
      " 0.20251835 0.19168249 0.15318446 0.09132036 0.08216896 0.12783875\n",
      " 0.12522332 0.08194616 0.20444559 0.19325636 0.15853576 0.10142487\n",
      " 0.09479101 0.10973582 0.05840092 0.04922195 0.11377288 0.16177534\n",
      " 0.15485547 0.11076996 0.19165029 0.16189307 0.14431191 0.104453\n",
      " 0.02473032 0.00903337 0.02940055 0.03820792 0.06909324 0.02889264\n",
      " 0.01722144 0.02856578 0.00590021 0.04032796 0.02134299 0.03238471\n",
      " 0.09479101 0.10973582 0.05840092 0.04922195 0.11377288 0.16177534\n",
      " 0.15485547 0.11076996 0.19165029 0.16189307 0.14431191 0.104453  ]\n",
      "   mean_fit_time  std_fit_time  mean_score_time  std_score_time  \\\n",
      "0       0.007569      0.001233         0.002096        0.000414   \n",
      "1       0.014584      0.004590         0.002449        0.000557   \n",
      "2       0.021396      0.005245         0.002269        0.000027   \n",
      "3       0.044516      0.006502         0.003642        0.000533   \n",
      "4       0.007679      0.001734         0.002257        0.000083   \n",
      "\n",
      "  param_rf__max_depth param_rf__max_features param_rf__min_samples_leaf  \\\n",
      "0                   2                   auto                          2   \n",
      "1                   2                   auto                          2   \n",
      "2                   2                   auto                          2   \n",
      "3                   2                   auto                          2   \n",
      "4                   2                   auto                          4   \n",
      "\n",
      "  param_rf__n_estimators                                             params  \\\n",
      "0                      4  {'rf__max_depth': 2, 'rf__max_features': 'auto...   \n",
      "1                      8  {'rf__max_depth': 2, 'rf__max_features': 'auto...   \n",
      "2                     16  {'rf__max_depth': 2, 'rf__max_features': 'auto...   \n",
      "3                     32  {'rf__max_depth': 2, 'rf__max_features': 'auto...   \n",
      "4                      4  {'rf__max_depth': 2, 'rf__max_features': 'auto...   \n",
      "\n",
      "   split0_test_score  split1_test_score  mean_test_score  std_test_score  \\\n",
      "0          -0.794785          -0.415290        -0.605038        0.189747   \n",
      "1          -0.754148          -0.354455        -0.554301        0.199846   \n",
      "2          -0.653343          -0.372558        -0.512951        0.140392   \n",
      "3          -0.586674          -0.366735        -0.476705        0.109969   \n",
      "4          -0.794785          -0.415290        -0.605038        0.189747   \n",
      "\n",
      "   rank_test_score  split0_train_score  split1_train_score  mean_train_score  \\\n",
      "0               78            -0.13176           -0.115252         -0.123506   \n",
      "1               66            -0.13176           -0.115252         -0.123506   \n",
      "2               47            -0.13176           -0.115252         -0.123506   \n",
      "3               37            -0.13176           -0.115252         -0.123506   \n",
      "4               78            -0.13176           -0.115252         -0.123506   \n",
      "\n",
      "   std_train_score  \n",
      "0         0.008254  \n",
      "1         0.008254  \n",
      "2         0.008254  \n",
      "3         0.008254  \n",
      "4         0.008254  \n",
      "MAE: 0.12403470613699762\n",
      "Tuned RF params: {'rf__max_depth': 8, 'rf__max_features': 'auto', 'rf__min_samples_leaf': 4, 'rf__n_estimators': 32}\n",
      "Tuned RF score:  -0.12403470613699762\n",
      "MAE: 0.12403470613699762\n",
      "R^2: -0.32777353093283246\n",
      "Best model important features: SKLEARN\n",
      "[3.64540743e-03 6.90994466e-01 2.67069691e-04 3.04450345e-01\n",
      " 2.77672694e-04 3.65038671e-04]\n"
     ]
    },
    {
     "data": {
      "text/plain": [
       "<Figure size 432x288 with 0 Axes>"
      ]
     },
     "metadata": {},
     "output_type": "display_data"
    },
    {
     "data": {
      "image/png": "[encoded data removed]",
      "text/plain": [
       "<Figure size 432x288 with 1 Axes>"
      ]
     },
     "metadata": {
      "needs_background": "light"
     },
     "output_type": "display_data"
    },
    {
     "data": {
      "image/png": "[encoded data removed]",
      "text/plain": [
       "<Figure size 432x288 with 1 Axes>"
      ]
     },
     "metadata": {
      "needs_background": "light"
     },
     "output_type": "display_data"
    },
    {
     "data": {
      "image/png": "[encoded data removed]",
      "text/plain": [
       "<Figure size 864x504 with 1 Axes>"
      ]
     },
     "metadata": {
      "needs_background": "light"
     },
     "output_type": "display_data"
    }
   ],
   "source": [
    "y_trainrf,y_predrf,y_testrf = rf_gridcv(df15_ss)#, fi_plts=True)"
   ]
  },
  {
   "cell_type": "markdown",
   "metadata": {},
   "source": [
    "## Comparison: RF vs LASSO"
   ]
  },
  {
   "cell_type": "code",
   "execution_count": 16,
   "metadata": {},
   "outputs": [
    {
     "data": {
      "image/png": "[encoded data removed]",
      "text/plain": [
       "<Figure size 432x288 with 1 Axes>"
      ]
     },
     "metadata": {
      "needs_background": "light"
     },
     "output_type": "display_data"
    }
   ],
   "source": [
    "z_ax = np.linspace(0,2*np.pi,256)\n",
    "\n",
    "fig,ax=plt.subplots()\n",
    "        \n",
    "fld_label = r\"$\\mathcal{E}_x$\" #if fld=='Ex' else r\"$\\mathcal{E}_y$\"\n",
    "        \n",
    "ax.plot(np.linspace(0,2*np.pi,256),df15_ss['Ex'],label=fld_label)\n",
    "ax.plot(z_ax[y_train.shape[0]:],y_pred,'r--',lw=2,label=\"LASSO fit\")\n",
    "ax.plot(z_ax[y_train.shape[0]:],y_predrf,'g-.',lw=3,label=\"RF fit\")\n",
    "\n",
    "plt.axvline(x=0.8*z_ax[-1], color='k', linestyle='--')\n",
    "\n",
    "ax.set_ylim([-1.5,1.5])\n",
    "    \n",
    "ax.legend()\n",
    "ax.set_xlabel('z',fontsize=14)\n",
    "    \n",
    "fig.savefig('df15_SPACE_comparison_poly.pdf',bbox_inches='tight')"
   ]
  },
  {
   "cell_type": "code",
   "execution_count": null,
   "metadata": {},
   "outputs": [],
   "source": []
  }
 ],
 "metadata": {
  "colab": {
   "collapsed_sections": [
    "sW-zMwjv5HYv"
   ],
   "name": "jan18th2019_rfandlasso.ipynb",
   "provenance": [],
   "version": "0.3.2"
  },
  "kernelspec": {
   "display_name": "Python 3",
   "language": "python",
   "name": "python3"
  },
  "language_info": {
   "codemirror_mode": {
    "name": "ipython",
    "version": 3
   },
   "file_extension": ".py",
   "mimetype": "text/x-python",
   "name": "python",
   "nbconvert_exporter": "python",
   "pygments_lexer": "ipython3",
   "version": "3.7.3"
  },
  "toc-autonumbering": true,
  "toc-showcode": true
 },
 "nbformat": 4,
 "nbformat_minor": 2
}
