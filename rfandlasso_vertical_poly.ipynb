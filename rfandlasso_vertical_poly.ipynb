{
 "cells": [
  {
   "cell_type": "markdown",
   "metadata": {
    "colab_type": "text",
    "id": "BXS4JDLmybZw"
   },
   "source": [
    "## LASSO and Random Forest fits"
   ]
  },
  {
   "cell_type": "markdown",
   "metadata": {
    "colab_type": "text",
    "id": "uDPZHGxgoos_",
    "toc-hr-collapsed": true
   },
   "source": [
    "# Load/import libraries"
   ]
  },
  {
   "cell_type": "code",
   "execution_count": 1,
   "metadata": {
    "colab": {},
    "colab_type": "code",
    "id": "QE2w5TS1f7JS"
   },
   "outputs": [],
   "source": [
    "import pandas as pd\n",
    "import seaborn as sns\n",
    "import matplotlib.pyplot as plt\n",
    "import numpy as np\n",
    "import os\n",
    "#from sklearn.metrics import mean_squared_error,mean_absolute_error\n",
    "\n",
    "%load_ext autoreload\n",
    "%autoreload 2\n",
    "%matplotlib inline"
   ]
  },
  {
   "cell_type": "code",
   "execution_count": 2,
   "metadata": {
    "colab": {},
    "colab_type": "code",
    "id": "dzyOFQwovOof"
   },
   "outputs": [],
   "source": [
    "from preprocess import *"
   ]
  },
  {
   "cell_type": "markdown",
   "metadata": {
    "colab_type": "text",
    "id": "bggEO3pYBvMQ",
    "toc-hr-collapsed": true
   },
   "source": [
    "# Data"
   ]
  },
  {
   "cell_type": "markdown",
   "metadata": {
    "colab_type": "text",
    "id": "PnX8Gw8Ambjs"
   },
   "source": [
    "## Download"
   ]
  },
  {
   "cell_type": "markdown",
   "metadata": {},
   "source": [
    "**Should really define a function that downloads the data and loads it**"
   ]
  },
  {
   "cell_type": "code",
   "execution_count": 3,
   "metadata": {
    "colab": {},
    "colab_type": "code",
    "id": "wCYGXU1GL-eW"
   },
   "outputs": [],
   "source": [
    "# bxm,bym,jxm,jym,emfx,emfy,u2tot,b2tot\n",
    "# tres,Rm,uave,kf,tt\n",
    "pth='../data/alpha2/'\n",
    "\n",
    "mf15 = np.load(pth + 'mfields_R15e3.npz')\n",
    "mf9  = np.load(pth + 'mfields_R9e3.npz') \n",
    "mf5  = np.load(pth + 'mfields_R5e3.npz')\n",
    "mf1  = np.load(pth + 'mfields_R1e3.npz') \n",
    "mf05 = np.load(pth + 'mfields_R5e2.npz')"
   ]
  },
  {
   "cell_type": "markdown",
   "metadata": {
    "colab_type": "text",
    "id": "8QbGs_qeozx6"
   },
   "source": [
    "## Pre-process\n",
    "\n",
    "Time averaged data stored in a pandas dataframe"
   ]
  },
  {
   "cell_type": "code",
   "execution_count": 4,
   "metadata": {
    "colab": {
     "base_uri": "https://localhost:8080/",
     "height": 647
    },
    "colab_type": "code",
    "id": "_GSEB7K6zps3",
    "outputId": "1e4165ee-f097-48f8-cffa-e39cb1306906"
   },
   "outputs": [],
   "source": [
    "df15 = gen_df_tave(fname=pth + 'mfields_R15e3.npz',t1=1500,t2=-1,verbose=0)\n",
    "df9  = gen_df_tave(fname=pth + 'mfields_R9e3.npz',t1=1500,t2=-1,verbose=0)\n",
    "df5  = gen_df_tave(fname=pth + 'mfields_R5e3.npz',t1=1000,t2=-1,verbose=0)\n",
    "df1  = gen_df_tave(fname=pth + 'mfields_R1e3.npz',t1=1250,t2=2000,verbose=0)\n",
    "df05 = gen_df_tave(fname=pth + 'mfields_R5e2.npz',t1=4000,t2=5000,verbose=0)"
   ]
  },
  {
   "cell_type": "markdown",
   "metadata": {
    "colab_type": "text",
    "id": "81XLXN75HtM4",
    "toc-hr-collapsed": false
   },
   "source": [
    "# Lasso"
   ]
  },
  {
   "cell_type": "code",
   "execution_count": 5,
   "metadata": {
    "colab": {},
    "colab_type": "code",
    "id": "QX4CVGMcHwkm"
   },
   "outputs": [],
   "source": [
    "from lasso_fits import *"
   ]
  },
  {
   "cell_type": "markdown",
   "metadata": {
    "colab_type": "text",
    "id": "Ao0chMg05JRX"
   },
   "source": [
    "## Polynomial basis"
   ]
  },
  {
   "cell_type": "code",
   "execution_count": 6,
   "metadata": {
    "colab": {
     "base_uri": "https://localhost:8080/",
     "height": 1271
    },
    "colab_type": "code",
    "id": "Bvhdhqym5LRX",
    "outputId": "eb4d27c8-b499-4711-e77d-61e91fdbec65"
   },
   "outputs": [
    {
     "name": "stdout",
     "output_type": "stream",
     "text": [
      "Feature names: ['Bx', 'By', 'Bx By', 'Ex', 'Ey', 'B^2', 'B^2 Bx', 'B^2 By']\n",
      "Feature array shape: (256, 8)\n",
      "Test size: 0.2\n",
      "Test,train shapes: (52, 6) (204, 6)\n",
      "Fitting 2 folds for each of 5 candidates, totalling 10 fits\n"
     ]
    },
    {
     "name": "stderr",
     "output_type": "stream",
     "text": [
      "[Parallel(n_jobs=4)]: Using backend LokyBackend with 4 concurrent workers.\n",
      "[Parallel(n_jobs=4)]: Done  10 out of  10 | elapsed:    1.0s finished\n",
      "/home/fnauman/anaconda3/envs/plotly/lib/python3.7/site-packages/sklearn/linear_model/coordinate_descent.py:492: ConvergenceWarning: Objective did not converge. You might want to increase the number of iterations. Fitting data with very small alpha may cause precision problems.\n",
      "  ConvergenceWarning)\n",
      "/home/fnauman/anaconda3/envs/plotly/lib/python3.7/site-packages/sklearn/linear_model/coordinate_descent.py:492: ConvergenceWarning: Objective did not converge. You might want to increase the number of iterations. Fitting data with very small alpha may cause precision problems.\n",
      "  ConvergenceWarning)\n"
     ]
    },
    {
     "name": "stdout",
     "output_type": "stream",
     "text": [
      "Tuned Lasso Alpha: {'lasso__alpha': 0.001}\n",
      "Tuned Lasso Score: -0.09933501689027614\n",
      "BEST FIT model\n",
      "Mean Absolute Error: 0.09933501689027614\n",
      "LASSO score: 0.3495967996444914\n",
      "Coefficients: [-0.00131554  0.20634955 -0.02181149  0.76528774 -0.         -0.01298382]\n"
     ]
    },
    {
     "data": {
      "image/png": "[encoded data removed]",
      "text/plain": [
       "<Figure size 864x504 with 1 Axes>"
      ]
     },
     "metadata": {
      "needs_background": "light"
     },
     "output_type": "display_data"
    }
   ],
   "source": [
    "df15_poly = gen_df_poly(df15)\n",
    "df15_ss, scl = scale_df(df15_poly)\n",
    "y_train,y_pred,y_test = lasso_gridcv(df15_ss)"
   ]
  },
  {
   "cell_type": "markdown",
   "metadata": {
    "colab_type": "text",
    "id": "s4ITlChKGEY3",
    "toc-hr-collapsed": false
   },
   "source": [
    "# Random forests"
   ]
  },
  {
   "cell_type": "code",
   "execution_count": 7,
   "metadata": {},
   "outputs": [],
   "source": [
    "from rf_fits import *"
   ]
  },
  {
   "cell_type": "markdown",
   "metadata": {
    "colab_type": "text",
    "id": "ByFBue_GQvpO"
   },
   "source": [
    "## Polynomial basis"
   ]
  },
  {
   "cell_type": "code",
   "execution_count": 8,
   "metadata": {
    "colab": {
     "base_uri": "https://localhost:8080/",
     "height": 2286
    },
    "colab_type": "code",
    "id": "efc6pZKeHWsX",
    "outputId": "0165bb8f-3479-4b24-944f-4606e5167625"
   },
   "outputs": [
    {
     "name": "stdout",
     "output_type": "stream",
     "text": [
      "Test size: 0.2\n",
      "Test,train shapes: (52, 6) (204, 6)\n",
      "Fitting 2 folds for each of 108 candidates, totalling 216 fits\n"
     ]
    },
    {
     "name": "stderr",
     "output_type": "stream",
     "text": [
      "[Parallel(n_jobs=4)]: Using backend LokyBackend with 4 concurrent workers.\n",
      "[Parallel(n_jobs=4)]: Done 216 out of 216 | elapsed:    1.6s finished\n"
     ]
    },
    {
     "name": "stdout",
     "output_type": "stream",
     "text": [
      "MAE: 0.12403470613699762\n",
      "Tuned RF params: {'rf__max_depth': 8, 'rf__max_features': 'auto', 'rf__min_samples_leaf': 4, 'rf__n_estimators': 32}\n",
      "Tuned RF score:  -0.12403470613699762\n",
      "MAE: 0.12403470613699762\n",
      "R^2: -0.32777353093283246\n",
      "Best model important features: SKLEARN\n",
      "[3.64540743e-03 6.90994466e-01 2.67069691e-04 3.04450345e-01\n",
      " 2.77672694e-04 3.65038671e-04]\n"
     ]
    },
    {
     "data": {
      "image/png": "[encoded data removed]",
      "text/plain": [
       "<Figure size 864x504 with 1 Axes>"
      ]
     },
     "metadata": {
      "needs_background": "light"
     },
     "output_type": "display_data"
    }
   ],
   "source": [
    "df15_ss, _ = scale_df(df15_poly)\n",
    "y_trainrf,y_predrf,y_testrf = rf_gridcv(df15_ss)#, fi_plts=True)"
   ]
  },
  {
   "cell_type": "markdown",
   "metadata": {},
   "source": [
    "## Visualize individual trees"
   ]
  },
  {
   "cell_type": "code",
   "execution_count": 9,
   "metadata": {},
   "outputs": [
    {
     "data": {
      "text/plain": [
       "DecisionTreeRegressor(criterion='mae', max_depth=8, max_features='auto',\n",
       "           max_leaf_nodes=None, min_impurity_decrease=0.0,\n",
       "           min_impurity_split=None, min_samples_leaf=4,\n",
       "           min_samples_split=2, min_weight_fraction_leaf=0.0,\n",
       "           presort=False, random_state=1201263687, splitter='best')"
      ]
     },
     "execution_count": 9,
     "metadata": {},
     "output_type": "execute_result"
    }
   ],
   "source": [
    "# Load the best model chosen by grid search\n",
    "\n",
    "from joblib import load\n",
    "bst_rf_poly = load('bst_rf.joblib')\n",
    "estimator = bst_rf_poly.estimators_[5]\n",
    "estimator"
   ]
  },
  {
   "cell_type": "code",
   "execution_count": 10,
   "metadata": {},
   "outputs": [
    {
     "data": {
      "text/plain": [
       "True"
      ]
     },
     "execution_count": 10,
     "metadata": {},
     "output_type": "execute_result"
    }
   ],
   "source": [
    "from sklearn.tree import export_graphviz\n",
    "import pydotplus\n",
    "import collections\n",
    "#from IPython import display\n",
    "\n",
    "flds = ['Ex','Ey']\n",
    "df_feats = df15_ss.drop(flds,axis=1)\n",
    "\n",
    "tree0 = export_graphviz(estimator,\n",
    "                feature_names=df_feats.columns,\n",
    "                filled=True,\n",
    "                rounded=True,\n",
    "                rotate=True)\n",
    "#display.display(tree0)\n",
    "\n",
    "graph = pydotplus.graph_from_dot_data(tree0)\n",
    "\n",
    "colors = ('turquoise', 'orange')\n",
    "edges = collections.defaultdict(list)\n",
    "\n",
    "for edge in graph.get_edge_list():\n",
    "    edges[edge.get_source()].append(int(edge.get_destination()))\n",
    "\n",
    "for edge in edges:\n",
    "    edges[edge].sort()    \n",
    "    for i in range(2):\n",
    "        dest = graph.get_node(str(edges[edge][i]))[0]\n",
    "        dest.set_fillcolor(colors[i])\n",
    "        \n",
    "graph.write_png('tree_poly.png')"
   ]
  },
  {
   "cell_type": "code",
   "execution_count": 11,
   "metadata": {},
   "outputs": [],
   "source": [
    "# Uncomment to display the tree in jupyter \n",
    "#from IPython.display import Image\n",
    "#Image(graph.create_png())"
   ]
  },
  {
   "cell_type": "markdown",
   "metadata": {},
   "source": [
    "## Sci-kit Learn's Feature Importances"
   ]
  },
  {
   "cell_type": "code",
   "execution_count": 12,
   "metadata": {},
   "outputs": [
    {
     "data": {
      "text/plain": [
       "array([3.64540743e-03, 6.90994466e-01, 2.67069691e-04, 3.04450345e-01,\n",
       "       2.77672694e-04, 3.65038671e-04])"
      ]
     },
     "execution_count": 12,
     "metadata": {},
     "output_type": "execute_result"
    }
   ],
   "source": [
    "from joblib import load\n",
    "bst_rf_poly = load('bst_rf.joblib')\n",
    "bst_rf_poly.feature_importances_"
   ]
  },
  {
   "cell_type": "code",
   "execution_count": 13,
   "metadata": {},
   "outputs": [
    {
     "name": "stdout",
     "output_type": "stream",
     "text": [
      "[-0.00131554  0.20634955 -0.02181149  0.76528774 -0.         -0.01298382] (6,)\n"
     ]
    }
   ],
   "source": [
    "bst_lasso_poly = load('bst_lasso.joblib')\n",
    "print(bst_lasso_poly.coef_,bst_lasso_poly.coef_.shape)"
   ]
  },
  {
   "cell_type": "code",
   "execution_count": 14,
   "metadata": {},
   "outputs": [],
   "source": [
    "flds = ['Ex','Ey']\n",
    "df_feats = df15_ss.drop(flds,axis=1)\n",
    "x_feats = list(df_feats.columns)"
   ]
  },
  {
   "cell_type": "code",
   "execution_count": 15,
   "metadata": {},
   "outputs": [],
   "source": [
    "#plt.bar(x_feats, bst_rf.feature_importances_, color=['red','green','blue','black'])\n",
    "#plt.bar(x_feats, bst_lasso.coef_, color=['k','y','k','y'])"
   ]
  },
  {
   "cell_type": "code",
   "execution_count": 16,
   "metadata": {},
   "outputs": [
    {
     "data": {
      "image/png": "[encoded data removed]",
      "text/plain": [
       "<Figure size 432x288 with 1 Axes>"
      ]
     },
     "metadata": {
      "needs_background": "light"
     },
     "output_type": "display_data"
    }
   ],
   "source": [
    "n_groups = 6 # changed for polynomial - 6 terms instead of 4\n",
    "index = np.arange(n_groups)\n",
    "bar_width = 0.25\n",
    "xlabs = [r'$\\overline{B}_x$', r'$\\overline{B}_y$', \n",
    "         r'$\\overline{J}_x$', r'$\\overline{J}_y$']\n",
    "\n",
    "opacity = 0.4\n",
    "error_config = {'ecolor': '0.3'}\n",
    "\n",
    "fig, ax = plt.subplots()\n",
    "\n",
    "rects1 = ax.bar(index, bst_rf_poly.feature_importances_, bar_width,\n",
    "                alpha=opacity, color='b',\n",
    "                #yerr=std_men, error_kw=error_config,\n",
    "                label='RF')\n",
    "\n",
    "rects2 = ax.bar(index + bar_width, bst_lasso_poly.coef_, bar_width,\n",
    "                alpha=opacity, color='r',\n",
    "                #yerr=std_women, error_kw=error_config,\n",
    "                label='LASSO')\n",
    "\n",
    "#ax.set_xlabel('Fields')\n",
    "ax.set_ylabel('Scores', fontsize=14)\n",
    "#ax.set_title('Scores by group and gender')\n",
    "ax.set_xticks(index + bar_width / 2)\n",
    "ax.set_xticklabels(x_feats)\n",
    "#ax.set_xticklabels(xlabs, fontsize=14)\n",
    "ax.legend()\n",
    "\n",
    "#fig.tight_layout()\n",
    "#plt.show()\n",
    "\n",
    "fig.savefig('RFvsLASSO_poly.pdf', bbox_inches='tight')"
   ]
  },
  {
   "cell_type": "markdown",
   "metadata": {},
   "source": [
    "## Comparison: RF vs LASSO"
   ]
  },
  {
   "cell_type": "code",
   "execution_count": 17,
   "metadata": {},
   "outputs": [
    {
     "data": {
      "image/png": "[encoded data removed]",
      "text/plain": [
       "<Figure size 432x288 with 1 Axes>"
      ]
     },
     "metadata": {
      "needs_background": "light"
     },
     "output_type": "display_data"
    }
   ],
   "source": [
    "z_ax = np.linspace(0,2*np.pi,256)\n",
    "\n",
    "fig,ax=plt.subplots()\n",
    "        \n",
    "fld_label = r\"$\\mathcal{E}_x$\" #if fld=='Ex' else r\"$\\mathcal{E}_y$\"\n",
    "        \n",
    "ax.plot(np.linspace(0,2*np.pi,256),df15_ss['Ex'],label=fld_label)\n",
    "ax.plot(z_ax[y_train.shape[0]:],y_pred,'r--',lw=2,label=\"LASSO fit\")\n",
    "ax.plot(z_ax[y_train.shape[0]:],y_predrf,'g-.',lw=3,label=\"RF fit\")\n",
    "        \n",
    "ax.set_ylim([-1.5,1.5])\n",
    "    \n",
    "ax.legend()\n",
    "ax.set_xlabel('z',fontsize=14)\n",
    "    \n",
    "fig.savefig('df15_SPACE_comparison_poly.pdf',bbox_inches='tight')"
   ]
  },
  {
   "cell_type": "code",
   "execution_count": null,
   "metadata": {},
   "outputs": [],
   "source": []
  }
 ],
 "metadata": {
  "colab": {
   "collapsed_sections": [
    "sW-zMwjv5HYv"
   ],
   "name": "jan18th2019_rfandlasso.ipynb",
   "provenance": [],
   "version": "0.3.2"
  },
  "kernelspec": {
   "display_name": "Python 3",
   "language": "python",
   "name": "python3"
  },
  "language_info": {
   "codemirror_mode": {
    "name": "ipython",
    "version": 3
   },
   "file_extension": ".py",
   "mimetype": "text/x-python",
   "name": "python",
   "nbconvert_exporter": "python",
   "pygments_lexer": "ipython3",
   "version": "3.7.3"
  },
  "toc-autonumbering": true,
  "toc-showcode": true
 },
 "nbformat": 4,
 "nbformat_minor": 2
}
